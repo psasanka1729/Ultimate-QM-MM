{
 "cells": [
  {
   "cell_type": "markdown",
   "id": "98cf48fc-5cac-4896-b8e3-4856056652cb",
   "metadata": {},
   "source": [
    "# Working code : Do not change"
   ]
  },
  {
   "cell_type": "code",
   "execution_count": 1,
   "id": "d23cc9f9",
   "metadata": {},
   "outputs": [],
   "source": [
    "import os\n",
    "import numpy as np\n",
    "import matplotlib.pyplot as plt\n",
    "import qiskit\n",
    "from qiskit import*"
   ]
  },
  {
   "cell_type": "code",
   "execution_count": 2,
   "id": "dd016dcf",
   "metadata": {},
   "outputs": [],
   "source": [
    "I2 = np.matrix([[1,0],\n",
    "                [0,1]])\n",
    "hadamard_gate  = np.matrix([[1,1],\n",
    "                [1,-1]])* (1/np.sqrt(2))\n",
    "phase_gate  = np.matrix([[1,0],\n",
    "                [0,1j]])\n",
    "sigma_x  = np.matrix([[0,1],\n",
    "                [1,0]])\n",
    "sigma_y  = np.matrix([[0,-1j],\n",
    "                [1j,0]])\n",
    "sigma_z  = np.matrix([[1,0],\n",
    "                [0,-1]])"
   ]
  },
  {
   "cell_type": "code",
   "execution_count": 3,
   "id": "584da39b",
   "metadata": {},
   "outputs": [],
   "source": [
    "def Minv(N_qubits,X):\n",
    "    return ((2**N_qubits+1.))*X - np.eye(2**N_qubits)"
   ]
  },
  {
   "cell_type": "code",
   "execution_count": 4,
   "id": "619af636",
   "metadata": {},
   "outputs": [],
   "source": [
    "#nShadows = 1000\n",
    "reps = 1\n",
    "#rng = np.random.default_rng(1717)\n",
    "\n",
    "def test_quantum_circuit(N_qubits,angle_1):\n",
    "    qc_test = QuantumCircuit(N_qubits)\n",
    "    qc_test.h(0)\n",
    "    #qc_test.x(1)\n",
    "    #qc_test.z(2)\n",
    "    qc_test.cry(angle_1,0,1)\n",
    "    #qc_test.rx(angle_1,2)\n",
    "    #qc_test.cx(2,0)\n",
    "    return qc_test\n",
    "\n",
    "def shadow_tomography_clifford(N_qubits,quantum_circuit):\n",
    "\n",
    "    cliffords = [qiskit.quantum_info.random_clifford(N_qubits,) for _ in range(n_Shadows)]\n",
    "    \n",
    "    rho_actual = qiskit.quantum_info.DensityMatrix(quantum_circuit).data\n",
    "    \n",
    "    results = []\n",
    "    for cliff in cliffords:\n",
    "        qc_c  = quantum_circuit.compose(cliff.to_circuit())\n",
    "\n",
    "        counts = qiskit.quantum_info.Statevector(qc_c).sample_counts(reps)\n",
    "        results.append(counts)\n",
    "        \n",
    "    shadows = []\n",
    "    for cliff, res in zip(cliffords, results):\n",
    "        mat    = cliff.adjoint().to_matrix()\n",
    "        for bit,count in res.items():\n",
    "            Ub = mat[:,int(bit,2)] # this is Udag|b>\n",
    "            shadows.append(Minv(N_qubits,np.outer(Ub,Ub.conj()))*count)\n",
    "\n",
    "    #rho_shadow = np.sum(shadows,axis=0)/(nShadows*reps)\n",
    "    return rho_actual,shadows#shadows"
   ]
  },
  {
   "cell_type": "code",
   "execution_count": 5,
   "id": "5d6605ab-b902-4622-93f1-e1bf57e969a4",
   "metadata": {},
   "outputs": [],
   "source": [
    "def linear_function_prediction(N,K,operator_linear,list_of_shadows):\n",
    "    list_of_means = []\n",
    "    \n",
    "    # calculating K means\n",
    "    for k in range(1,K+1):\n",
    "        shadows_mean = 0.0\n",
    "        for j in range(N*(k-1)+1,N*k+1):\n",
    "            rho_j = list_of_shadows[j-1]\n",
    "            shadows_mean += np.trace(operator_linear@rho_j )\n",
    "            \n",
    "        list_of_means.append(shadows_mean/N)\n",
    "        \n",
    "    # calculating the median of K means\n",
    "    return np.median(list_of_means)\n",
    "\n",
    "def quadratic_function_prediction(N,K,operator_m,operator_n,list_of_shadows):\n",
    "    \n",
    "    list_of_means = []\n",
    "    \n",
    "    SWAP = np.matrix([[1,0,0,0],\n",
    "                      [0,0,1,0],\n",
    "                      [0,1,0,0],\n",
    "                      [0,0,0,1]])\n",
    "    r\"\"\"\n",
    "    \n",
    "    calculating the operator O. Note that the order of operator_m and operator_n is irrelevant.\n",
    "    \n",
    "    \"\"\"\n",
    "    \n",
    "    O_quadratic = SWAP@np.kron(operator_m,operator_n)\n",
    "    \n",
    "    # calculating K means\n",
    "    for k in range(1,K+1):\n",
    "        shadows_mean = 0.0        \n",
    "        for j in range(N*(k-1)+1,N*k+1):\n",
    "            for l in range(N*(k-1)+1,N*k+1):\n",
    "                if j != l:\n",
    "                    rho_j = list_of_shadows[j-1]\n",
    "                    rho_l = list_of_shadows[l-1]\n",
    "                    shadows_mean += np.trace(O_quadratic@np.kron(rho_j,rho_l))\n",
    "                    \n",
    "        list_of_means.append(shadows_mean/(N*(N-1)))\n",
    "        \n",
    "    # calculating their median\n",
    "    return np.median(list_of_means)"
   ]
  },
  {
   "cell_type": "code",
   "execution_count": 6,
   "id": "449e1065-8071-4e99-bab8-f930b4eabcb6",
   "metadata": {},
   "outputs": [
    {
     "data": {
      "text/plain": [
       "31.622776601683793"
      ]
     },
     "execution_count": 6,
     "metadata": {},
     "output_type": "execute_result"
    }
   ],
   "source": [
    "np.sqrt(1000)"
   ]
  },
  {
   "cell_type": "code",
   "execution_count": 15,
   "id": "4d4614d7-304a-4c08-a49c-d42c955eddcd",
   "metadata": {},
   "outputs": [],
   "source": [
    "N = 40\n",
    "K = 10\n",
    "N_qubits = 2\n",
    "n_Shadows = N*K\n",
    "number_of_angle_divisons = 20\n",
    "angles_lst = np.linspace(0.0,2*np.pi,number_of_angle_divisons)\n",
    "number_of_repetitions = 10\n",
    "\"\"\"\n",
    "for angle_index in range(len(angles_lst)):\n",
    "    for repetitions in range(number_of_repetitions):\n",
    "        st_instance = shadow_tomography_clifford(N_qubits,test_quantum_circuit(N_qubits,angles_lst[angle_index]))\n",
    "        path = \"/Users/sasankadowarah/Ultimate_QM_MM/shadows_data/multi_qubit_data/30_30_10_10_2\"\n",
    "        os.chdir(\"/Users/sasankadowarah/Ultimate_QM_MM/shadows_data/multi_qubit_data/30_30_10_10_2\") \n",
    "        np.save(\"exact_density_matrix_\"+str(N*K)+\"_\"+str(repetitions)+\"_\"+str(angle_index)+\".npy\",st_instance[0])    \n",
    "        np.save(\"shadow_density_matrix_\"+str(N*K)+\"_\"+str(repetitions)+\"_\"+str(angle_index)+\".npy\",st_instance[1])#\"\"\";"
   ]
  },
  {
   "cell_type": "code",
   "execution_count": 58,
   "id": "229c5790-6058-43cb-92af-ea800ba22368",
   "metadata": {},
   "outputs": [],
   "source": [
    "\"\"\"number_of_angle_divisons = 10\n",
    "angles_lst = np.linspace(0.0,np.pi/2,number_of_angle_divisons)\n",
    "number_of_repetitions = 10\"\"\"\n",
    "operator_1 = I2#np.kron(sigma_x,sigma_x)\n",
    "operator_2 = sigma_y#np.kron(sigma_z,sigma_x)\n",
    "operator_3 = np.kron(I2,sigma_y)\n",
    "\n",
    "# these lists will hold the mean function values of all repetitions\n",
    "linear_exact_function_values = []\n",
    "linear_predicted_function_values = []\n",
    "linear_predicted_values_SEOM = []\n",
    "\n",
    "quadratic_exact_function_values = []\n",
    "quadratic_predicted_function_values = []\n",
    "quadratic_predicted_values_SEOM = []\n",
    "\n",
    "# calculating the exact and predicted value at each angle\n",
    "for angle_index in range(len(angles_lst)):\n",
    "    \n",
    "    # list to hold linear function values.\n",
    "    linear_exact_values = []\n",
    "    linear_predicted_values = []\n",
    "    \n",
    "    # list to hold quadratic function values.\n",
    "    quadratic_exact_values = []\n",
    "    quadratic_predicted_values = []  \n",
    "    \n",
    "    r\"\"\"\n",
    "    \n",
    "    At each value of angle; N*K shadows are calculated. This process is\n",
    "    repeated #number_of_repetitions number of times.\n",
    "    \n",
    "    \"\"\"\n",
    "    # calculating function values for all repetitions\n",
    "    for repetitions in range(number_of_repetitions):\n",
    "        \n",
    "        # loads the shadows and the exact density matrix\n",
    "        path = \"/Users/sasankadowarah/Ultimate_QM_MM/shadows_data/exact_single_qubit/40_10_10_10\"\n",
    "        os.chdir(path)         \n",
    "        exact_rho = np.load(\"exact_density_matrix_\"+str(N*K)+\"_\"+str(repetitions)+\"_\"+str(angle_index)+\".npy\")    \n",
    "        shadows_rho_lst = np.load(\"shadow_density_matrix_\"+str(N*K)+\"_\"+str(repetitions)+\"_\"+str(angle_index)+\".npy\") \n",
    "        \n",
    "        # linear\n",
    "        #linear_exact_values.append(np.trace(operator_3@exact_rho))\n",
    "        #linear_predicted_values.append(linear_function_prediction(N,K,operator_3,shadows_rho_lst))\n",
    "        \n",
    "        # quadratic\n",
    "        quadratic_exact_values.append(np.trace(operator_1@exact_rho@operator_2@exact_rho))\n",
    "        quadratic_predicted_values.append(quadratic_function_prediction(N,K,operator_1,operator_2,shadows_rho_lst))\n",
    "        \n",
    "    # calculating the mean over all the repetitions    \n",
    "    #linear_exact_function_values.append(np.mean(linear_exact_values).real) # unnecessary\n",
    "    #linear_predicted_function_values.append(np.mean(linear_predicted_values).real)\n",
    "    \n",
    "    quadratic_exact_function_values.append(np.mean(quadratic_exact_values).real) # unnecessary\n",
    "    quadratic_predicted_function_values.append(np.mean(quadratic_predicted_values).real)    \n",
    "    \n",
    "    # SEOM is calculated in case there are more than one repetitions\n",
    "    if number_of_repetitions > 1:\n",
    "        #linear_predicted_values_SEOM.append(np.std(linear_predicted_values)/np.sqrt(number_of_repetitions-1))\n",
    "        quadratic_predicted_values_SEOM.append(np.std(quadratic_predicted_values)/np.sqrt(number_of_repetitions-1))        \n",
    "    else:\n",
    "        pass"
   ]
  },
  {
   "cell_type": "code",
   "execution_count": 68,
   "id": "1b22d65a-1900-4c0b-9471-c44f74f135e6",
   "metadata": {},
   "outputs": [
    {
     "data": {
      "image/png": "[encoded data removed]",
      "text/plain": [
       "<Figure size 1152x864 with 1 Axes>"
      ]
     },
     "metadata": {
      "needs_background": "light"
     },
     "output_type": "display_data"
    }
   ],
   "source": [
    "large = 50; med = 40; small = 20\n",
    "params = {'axes.titlesize': med,\n",
    "          'axes.titlepad' : med,\n",
    "          'legend.fontsize': med,\n",
    "          'axes.labelsize': large ,\n",
    "          'axes.titlesize': med ,\n",
    "          'xtick.labelsize': large ,\n",
    "          'ytick.labelsize': large ,\n",
    "          'figure.titlesize': med}\n",
    "plt.rcParams['text.usetex'] = True\n",
    "plt.rcParams.update(params)\n",
    "f = plt.figure()\n",
    "f.set_figwidth(16)\n",
    "f.set_figheight(12)\n",
    "\n",
    "\"\"\"# linear plot\n",
    "plt.plot(angles_lst,linear_exact_function_values,c=\"red\",label=\"exact\",linewidth=3)\n",
    "plt.scatter(angles_lst,linear_exact_function_values,label=\"\",s = 200,c=\"red\")\n",
    "plt.plot(angles_lst,linear_predicted_function_values,c=\"blue\")\n",
    "\n",
    "if len(linear_predicted_values_SEOM) > 0:\n",
    "    plt.errorbar(angles_lst,linear_predicted_function_values,yerr = linear_predicted_values_SEOM,c=\"blue\",label=\"shadow\",\n",
    "                fmt=\"o\",mfc=\"tab:blue\",ms = 16,mew=1,capsize=13, elinewidth=2,)\n",
    "else:    \n",
    "    pass\n",
    "    #plt.scatter(angles_lst,linear_predicted_function_values,c=\"blue\",label=\"shadow\",s = 100)\n",
    "    \n",
    "#yerr = 0.1\n",
    "#plt.fill_between(angles_lst, np.array(linear_exact_function_values) - yerr, \n",
    "#                 np.array(linear_exact_function_values) + yerr,color=\"red\", alpha=0.2,label=r\"$\\epsilon = $\" + str(yerr))\"\"\";\n",
    "\n",
    "# quadratic\n",
    "plt.plot(angles_lst,quadratic_exact_function_values,c=\"red\",label=\"exact\",linewidth=3)\n",
    "plt.scatter(angles_lst,quadratic_exact_function_values,label=\"\",s = 200,c=\"red\")\n",
    "plt.plot(angles_lst,quadratic_predicted_function_values,c=\"blue\")\n",
    "\n",
    "if len(quadratic_predicted_values_SEOM) > 0:\n",
    "    plt.errorbar(angles_lst,quadratic_predicted_function_values,yerr = quadratic_predicted_values_SEOM,\n",
    "                c=\"blue\",label=\"shadow\",\n",
    "                fmt=\"o\",mfc=\"tab:blue\",ms = 16,mew=1,capsize=13, elinewidth=2,)\n",
    "else:    \n",
    "    pass\n",
    "    #plt.scatter(angles_lst,linear_predicted_function_values,c=\"blue\",label=\"shadow\",s = 100)\n",
    "    \n",
    "#yerr = 0.1\n",
    "#plt.fill_between(angles_lst, np.array(quadratic_exact_function_values) - yerr, \n",
    "#                 np.array(quadratic_exact_function_values) + yerr,color=\"red\", alpha=0.2,label=r\"$\\epsilon = $\" + str(yerr))\n",
    "ax = f.gca()\n",
    "#ax.axvline(theta_x_exact, color=\"green\",label=r\"Exact $\\theta_{x}$\",linestyle=\"--\")\n",
    "ax.axhline(0, color=\"k\",linestyle=\"--\",alpha=0.5)\n",
    "#ax.axvline(theta_y_exact, color=\"green\",label = r\"$\\theta_{x}$\",linestyle=\"--\")\n",
    "#plt.title(\"Plot of cost function, \"+r\"$f( \\rho ) = \\textrm{tr}((\\mathcal{L}\\rho)^{2})$\")\n",
    "#plt.title(r\"N_{\\textrm{qubits} = \"+str(N_qubits)+\", N_shadows = \"+str(N*K))\n",
    "plt.xlabel(r\"$\\theta_{x}$\")\n",
    "plt.ylabel(r\"f$(\\rho ) = tr( Y\\rho^{2})$\")\n",
    "plt.ylim([-1,1])\n",
    "plt.legend(loc=\"lower left\")\n",
    "plt.gcf().subplots_adjust(bottom=0.2)\n",
    "plt.gcf().subplots_adjust(left=0.2)\n",
    "# Set the linewidth of the spines\n",
    "for axis in ['top','bottom','left','right']:\n",
    "    ax.spines[axis].set_linewidth(3)  # Change the value to adjust thickness \n",
    "ax.tick_params(axis=\"x\", direction=\"inout\", length=10, width=1.5, color=\"k\")\n",
    "ax.tick_params(axis=\"y\", direction=\"inout\", length=10, width=1.5, color=\"k\")\n",
    "path = \"/Users/sasankadowarah/Ultimate_QM_MM\"\n",
    "os.chdir(path) \n",
    "import time\n",
    "#plt.savefig(\"f_as_function_of_theta_x_\"+str(N)+\"_\"+str(K)+\"_\"+str(number_of_repetitions)+\"_\"+str(time.time())+\".jpg\",dpi=300)\n",
    "plt.savefig(\"quadratic_2_as_function_of_theta_x_\"+str(N)+\"_\"+str(K)+\"_\"+str(number_of_repetitions)+\".jpg\",dpi=300)\n",
    "plt.show()"
   ]
  },
  {
   "cell_type": "code",
   "execution_count": 60,
   "id": "90d40864",
   "metadata": {
    "tags": []
   },
   "outputs": [],
   "source": [
    "\"\"\"qc = test_quantum_circuit(4,np.pi/4)\n",
    "rho_actual = qiskit.quantum_info.DensityMatrix(qc).data\n",
    "rho_shadow = shadow_tomography_clifford(4,qc)\n",
    "\n",
    "plt.subplot(121)\n",
    "plt.suptitle(\"Correct\")\n",
    "plt.imshow(rho_actual.real,vmax=0.7,vmin=-0.7)\n",
    "plt.subplot(122)\n",
    "plt.imshow(rho_actual.imag,vmax=0.7,vmin=-0.7)\n",
    "plt.show()\n",
    "print(\"---\")\n",
    "\n",
    "plt.subplot(121)\n",
    "plt.suptitle(\"Shadow(Full Clifford)\")\n",
    "plt.imshow(rho_shadow.real,vmax=0.7,vmin=-0.7)\n",
    "plt.subplot(122)\n",
    "plt.imshow(rho_shadow.imag,vmax=0.7,vmin=-0.7)\n",
    "plt.show()\"\"\";"
   ]
  },
  {
   "cell_type": "code",
   "execution_count": 61,
   "id": "49ee46da",
   "metadata": {},
   "outputs": [],
   "source": [
    "#qiskit.visualization.state_visualization.plot_state_city(rho_actual,title=\"Correct\")"
   ]
  },
  {
   "cell_type": "code",
   "execution_count": 62,
   "id": "56dc69e5",
   "metadata": {},
   "outputs": [],
   "source": [
    "#qiskit.visualization.state_visualization.plot_state_city(rho_shadow,title=\"Shadow (clifford)\")"
   ]
  },
  {
   "cell_type": "markdown",
   "id": "722126e9",
   "metadata": {},
   "source": [
    "## Pauli"
   ]
  },
  {
   "cell_type": "markdown",
   "id": "87f0cab3",
   "metadata": {},
   "source": [
    "Repeating the above, but now with a Pauli string. Note this is effectively the same as single qubit Cliffords"
   ]
  },
  {
   "cell_type": "code",
   "execution_count": 63,
   "id": "8ff25c16",
   "metadata": {},
   "outputs": [],
   "source": [
    "\"\"\"nShadows = 10_000\n",
    "N = 2\n",
    "\n",
    "rng = np.random.default_rng(1717)\n",
    "scheme = [rng.choice(['X','Y','Z'],size=N) for _ in range(nShadows)]\n",
    "labels, counts = np.unique(scheme,axis=0,return_counts=True)\n",
    "    \n",
    "qc = qiskit.QuantumCircuit(N)\n",
    "channel(N,qc)\n",
    "\n",
    "results = []\n",
    "for bit_string,count in zip(labels,counts):\n",
    "    qc_m = qc.copy() \n",
    "    # rotate the basis for each qubit\n",
    "    for i,bit in enumerate(bit_string): bitGateMap(qc_m,bit,i) \n",
    "    counts = qiskit.quantum_info.Statevector(qc_m).sample_counts(count)\n",
    "    results.append(counts)\"\"\";"
   ]
  },
  {
   "cell_type": "markdown",
   "id": "c4647835",
   "metadata": {},
   "source": [
    "Note: qiskit using little-endian encoding so $X_1|00\\rangle = |10\\rangle$"
   ]
  },
  {
   "cell_type": "code",
   "execution_count": 64,
   "id": "152b1672",
   "metadata": {},
   "outputs": [],
   "source": [
    "\"\"\"def rotGate(g):\n",
    "    '''produces gate U such that U|psi> is in Pauli basis g'''\n",
    "    if g==\"X\":\n",
    "        return 1/np.sqrt(2)*np.array([[1.,1.],[1.,-1.]])\n",
    "    elif g==\"Y\":\n",
    "        return 1/np.sqrt(2)*np.array([[1.,-1.0j],[1.,1.j]])\n",
    "    elif g==\"Z\":\n",
    "        return np.eye(2)\n",
    "    else:\n",
    "        raise NotImplementedError(f\"Unknown gate {g}\")\"\"\";      "
   ]
  },
  {
   "cell_type": "code",
   "execution_count": 65,
   "id": "2d675510",
   "metadata": {},
   "outputs": [],
   "source": [
    "\"\"\"shadows = []\n",
    "shots = 0\n",
    "for pauli_string,counts in zip(labels,results):\n",
    "    # iterate over measurements\n",
    "     for bit,count in counts.items():\n",
    "        mat = 1.\n",
    "        for i,bi in enumerate(bit[::-1]):\n",
    "            b = rotGate(pauli_string[i])[int(bi),:]\n",
    "            mat = np.kron(Minv(1,np.outer(b.conj(),b)),mat)\n",
    "        shadows.append(mat*count)\n",
    "        shots+=count\n",
    "\n",
    "rho_shadow = np.sum(shadows,axis=0)/(shots)\"\"\";"
   ]
  },
  {
   "cell_type": "code",
   "execution_count": 66,
   "id": "86f2e4df",
   "metadata": {},
   "outputs": [],
   "source": [
    "\"\"\"rho_actual = qiskit.quantum_info.DensityMatrix(qc).data\n",
    "\n",
    "\n",
    "plt.subplot(121)\n",
    "plt.suptitle(\"Correct\")\n",
    "plt.imshow(rho_actual.real,vmax=0.7,vmin=-0.7)\n",
    "plt.subplot(122)\n",
    "plt.imshow(rho_actual.imag,vmax=0.7,vmin=-0.7)\n",
    "plt.show()\n",
    "print(\"---\")\n",
    "\n",
    "plt.subplot(121)\n",
    "plt.suptitle(\"Shadow(Pauli)\")\n",
    "plt.imshow(rho_shadow.real,vmax=0.7,vmin=-0.7)\n",
    "plt.subplot(122)\n",
    "plt.imshow(rho_shadow.imag,vmax=0.7,vmin=-0.7)\n",
    "plt.show()\"\"\";"
   ]
  },
  {
   "cell_type": "code",
   "execution_count": null,
   "id": "e9268309",
   "metadata": {},
   "outputs": [],
   "source": []
  }
 ],
 "metadata": {
  "kernelspec": {
   "display_name": "Python 3 (ipykernel)",
   "language": "python",
   "name": "python3"
  },
  "language_info": {
   "codemirror_mode": {
    "name": "ipython",
    "version": 3
   },
   "file_extension": ".py",
   "mimetype": "text/x-python",
   "name": "python",
   "nbconvert_exporter": "python",
   "pygments_lexer": "ipython3",
   "version": "3.9.12"
  }
 },
 "nbformat": 4,
 "nbformat_minor": 5
}
