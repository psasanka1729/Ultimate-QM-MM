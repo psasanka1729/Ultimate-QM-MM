{
  "cells": [
    {
      "cell_type": "markdown",
      "metadata": {
        "id": "view-in-github",
        "colab_type": "text"
      },
      "source": [
        "<a href=\"https://colab.research.google.com/github/psasanka1729/Ultimate-QM-MM/blob/main/shadow_tomography_qiskit_code.ipynb\" target=\"_parent\"><img src=\"https://colab.research.google.com/assets/colab-badge.svg\" alt=\"Open In Colab\"/></a>"
      ]
    },
    {
      "cell_type": "code",
      "execution_count": 1,
      "metadata": {
        "id": "jMTIwDnfa1ky"
      },
      "outputs": [],
      "source": [
        "import numpy as np\n",
        "import matplotlib.pyplot as plt\n",
        "import qiskit\n",
        "from qiskit.quantum_info import Statevector\n",
        "from qiskit import*"
      ]
    },
    {
      "cell_type": "markdown",
      "metadata": {
        "id": "FCMB3paPhhJN"
      },
      "source": [
        "## Pauli matrices"
      ]
    },
    {
      "cell_type": "code",
      "execution_count": 2,
      "metadata": {
        "id": "Y5h6hG1Ic14r"
      },
      "outputs": [],
      "source": [
        "I2 = np.matrix([[1,0],\n",
        "                [0,1]])\n",
        "H  = np.matrix([[1,1],\n",
        "                [1,-1]])* (1/np.sqrt(2))\n",
        "S  = np.matrix([[1,0],\n",
        "                [0,1j]])\n",
        "X  = np.matrix([[0,1],\n",
        "                [1,0]])\n",
        "Y  = np.matrix([[0,-1j],\n",
        "                [1j,0]])\n",
        "Z  = np.matrix([[1,0],\n",
        "                [0,-1]])"
      ]
    },
    {
      "cell_type": "code",
      "execution_count": 3,
      "metadata": {
        "id": "eKlepdfLc2ne"
      },
      "outputs": [],
      "source": [
        "def commutator(matrix_a,matrix_b):\n",
        "    return matrix_a@matrix_b - matrix_b@matrix_a\n",
        "def anti_commutator(matrix_a,matrix_b):\n",
        "    return matrix_a@matrix_b + matrix_b@matrix_a"
      ]
    },
    {
      "cell_type": "markdown",
      "metadata": {
        "id": "3i1tG0MdMJR-"
      },
      "source": [
        "## Shadow tomography"
      ]
    },
    {
      "cell_type": "code",
      "source": [
        "clif = [qiskit.quantum_info.random_clifford(1,seed = 1729) for _ in range(1)]"
      ],
      "metadata": {
        "id": "iFrclsa3AWC6"
      },
      "execution_count": 4,
      "outputs": []
    },
    {
      "cell_type": "code",
      "source": [
        "qc = QuantumCircuit(2,1)\n",
        "# initializing the ancilla qubit at |0>.\n",
        "qc.initialize([1,0],0)\n",
        "qc.rx(0.1,1)\n",
        "qc.ry(0.2,1)\n",
        "qc.rz(0.3,1)\n",
        "qc.cry(0.4,1,0)\n",
        "qc_c = clif[0].to_circuit()\n",
        "qc = qc.compose(qc_c,qubits=[1])\n",
        "qc.measure(1,0)\n",
        "# execute the quantum circuit\n",
        "backend = BasicAer.get_backend('qasm_simulator') # the device to run on\n",
        "result = backend.run(transpile(qc, backend), shots=1).result()\n",
        "counts  = result.get_counts(qc)\n",
        "print(counts)\n",
        "qc.draw(\"mpl\",style=\"clifford\")"
      ],
      "metadata": {
        "colab": {
          "base_uri": "https://localhost:8080/",
          "height": 272
        },
        "id": "L01vg1nAA-Al",
        "outputId": "92ad03d4-43d4-4c0b-cead-d81ee2c4db4f"
      },
      "execution_count": 30,
      "outputs": [
        {
          "output_type": "stream",
          "name": "stdout",
          "text": [
            "{'1': 1}\n"
          ]
        },
        {
          "output_type": "execute_result",
          "data": {
            "text/plain": [
              "<Figure size 872.572x284.278 with 1 Axes>"
            ],
            "image/png": "[encoded data removed]"
          },
          "metadata": {},
          "execution_count": 30
        }
      ]
    },
    {
      "cell_type": "code",
      "source": [
        "try:\n",
        "    bit = counts[\"0\"]\n",
        "except KeyError:\n",
        "    bit = counts[\"1\"]\n",
        "bit"
      ],
      "metadata": {
        "colab": {
          "base_uri": "https://localhost:8080/",
          "height": 176
        },
        "id": "8BuhkGBoMuVk",
        "outputId": "6515cd22-6c53-42e4-e5db-35a96681cd4d"
      },
      "execution_count": 37,
      "outputs": [
        {
          "output_type": "error",
          "ename": "KeyError",
          "evalue": "ignored",
          "traceback": [
            "\u001b[0;31m---------------------------------------------------------------------------\u001b[0m",
            "\u001b[0;31mKeyError\u001b[0m                                  Traceback (most recent call last)",
            "\u001b[0;32m<ipython-input-37-b08ed56ad6c2>\u001b[0m in \u001b[0;36m<cell line: 1>\u001b[0;34m()\u001b[0m\n\u001b[0;32m----> 1\u001b[0;31m \u001b[0mcounts\u001b[0m\u001b[0;34m[\u001b[0m\u001b[0;36m0\u001b[0m\u001b[0;34m]\u001b[0m\u001b[0;34m\u001b[0m\u001b[0;34m\u001b[0m\u001b[0m\n\u001b[0m",
            "\u001b[0;31mKeyError\u001b[0m: 0"
          ]
        }
      ]
    },
    {
      "cell_type": "code",
      "execution_count": 42,
      "metadata": {
        "id": "hcKIHbjqc8PU"
      },
      "outputs": [],
      "source": [
        "N_qubit = 2\n",
        "# returns N*K classical shadows.\n",
        "def classical_shadow_using_ST(N,K,theta_x,theta_y,theta_z,theta_ry):\n",
        "\n",
        "    # setting up the quantum circuit\n",
        "    qc = QuantumCircuit(N_qubit,1)\n",
        "    # initializing the ancilla qubit at |0>.\n",
        "    qc.initialize([1,0],0)\n",
        "    qc.rx(theta_x,1)\n",
        "    qc.ry(theta_y,1)\n",
        "    qc.rz(theta_z,1)\n",
        "    qc.cry(theta_ry,1,0)\n",
        "\n",
        "    # qiskit returns the statevector as a row.\n",
        "    # taking transpose to make it a column vector.\n",
        "    sv = np.matrix(Statevector.from_instruction(qc)).T\n",
        "    rho_SS = sv@(sv.conj().T)\n",
        "\n",
        "    # number of shadows\n",
        "    nShadows = N*K\n",
        "    # number of shots\n",
        "    number_of_shots = 1\n",
        "    rng = np.random.default_rng(1000)\n",
        "\n",
        "    # number of qubits the Clifford gates will be applied to.\n",
        "    N_clifford_qubit = 1\n",
        "    cliffords = [qiskit.quantum_info.random_clifford(N_clifford_qubit,seed = rng) for _ in range(nShadows)]\n",
        "    results = []\n",
        "\n",
        "    r\"\"\"\n",
        "     creating a empty circuit to compose to the Clifford circuit\n",
        "     so that it becomes the same dimension as the original circuit.\"\"\"\n",
        "    for cliff in cliffords:\n",
        "        # converting the clifford gates to circuit and appending it to the original circuit.\n",
        "        qc_c  = qc.compose(cliff.to_circuit())\n",
        "        qc  = qc.compose(qc_c,qubits=[1])\n",
        "        qc.measure(1,0)\n",
        "        # execute the quantum circuit\n",
        "        backend = BasicAer.get_backend('qasm_simulator') # the device to run on\n",
        "        result = backend.run(transpile(qc, backend), shots=number_of_shots).result()\n",
        "        counts  = result.get_counts(qc)\n",
        "\n",
        "        # samples the output in computational basis.\n",
        "        #counts = qiskit.quantum_info.Statevector(qc_c).sample_counts(number_of_shots)\n",
        "\n",
        "        results.append(counts)\n",
        "\n",
        "    # performing rho_hat = (2**N+1)*(U^{\\dagger}|b><b|U-I).\n",
        "    shadow_lst = []\n",
        "    # loops over the clifford gates and their corresponding measurement results.\n",
        "    for cliff, res in zip(cliffords, results):\n",
        "        # U^{\\dagger} matrix.\n",
        "        mat    = cliff.adjoint().to_matrix()\n",
        "        for bit,count in res.items():\n",
        "            try:\n",
        "                bit = counts[\"0\"]\n",
        "            except KeyError:\n",
        "                bit = counts[\"1\"]\n",
        "\n",
        "            if bit == \"0\":\n",
        "                # |0>\n",
        "                ket_b = np.matrix([[1],[0]])\n",
        "            else:\n",
        "                # |1>\n",
        "                ket_b = np.matrix([[0],[1]])\n",
        "\n",
        "            Ub = mat@ket_b\n",
        "            #Ub = mat[:,int(bit,2)] # this is Udag|b>\n",
        "\n",
        "            shadow_lst.append(((2**N_qubit+1.))*np.outer(Ub@(Ub.conj().T))*count - np.eye(2**N_qubit))\n",
        "    return rho_SS, shadow_lst,qc"
      ]
    },
    {
      "cell_type": "code",
      "source": [
        "classical_shadow_using_ST(1,1,0.1,0.1,0.1,0.1)"
      ],
      "metadata": {
        "colab": {
          "base_uri": "https://localhost:8080/",
          "height": 321
        },
        "id": "rWHZdIjoH0YR",
        "outputId": "527bdab4-3be2-429e-ac4f-b4741c722e6a"
      },
      "execution_count": 44,
      "outputs": [
        {
          "output_type": "error",
          "ename": "CircuitError",
          "evalue": "ignored",
          "traceback": [
            "\u001b[0;31m---------------------------------------------------------------------------\u001b[0m",
            "\u001b[0;31mCircuitError\u001b[0m                              Traceback (most recent call last)",
            "\u001b[0;32m<ipython-input-44-3298af2878f3>\u001b[0m in \u001b[0;36m<cell line: 1>\u001b[0;34m()\u001b[0m\n\u001b[0;32m----> 1\u001b[0;31m \u001b[0mclassical_shadow_using_ST\u001b[0m\u001b[0;34m(\u001b[0m\u001b[0;36m1\u001b[0m\u001b[0;34m,\u001b[0m\u001b[0;36m1\u001b[0m\u001b[0;34m,\u001b[0m\u001b[0;36m0.1\u001b[0m\u001b[0;34m,\u001b[0m\u001b[0;36m0.1\u001b[0m\u001b[0;34m,\u001b[0m\u001b[0;36m0.1\u001b[0m\u001b[0;34m,\u001b[0m\u001b[0;36m0.1\u001b[0m\u001b[0;34m)\u001b[0m\u001b[0;34m\u001b[0m\u001b[0;34m\u001b[0m\u001b[0m\n\u001b[0m",
            "\u001b[0;32m<ipython-input-42-404350793e9d>\u001b[0m in \u001b[0;36mclassical_shadow_using_ST\u001b[0;34m(N, K, theta_x, theta_y, theta_z, theta_ry)\u001b[0m\n\u001b[1;32m     34\u001b[0m         \u001b[0;31m# converting the clifford gates to circuit and appending it to the original circuit.\u001b[0m\u001b[0;34m\u001b[0m\u001b[0;34m\u001b[0m\u001b[0m\n\u001b[1;32m     35\u001b[0m         \u001b[0mqc_c\u001b[0m  \u001b[0;34m=\u001b[0m \u001b[0mqc\u001b[0m\u001b[0;34m.\u001b[0m\u001b[0mcompose\u001b[0m\u001b[0;34m(\u001b[0m\u001b[0mcliff\u001b[0m\u001b[0;34m.\u001b[0m\u001b[0mto_circuit\u001b[0m\u001b[0;34m(\u001b[0m\u001b[0;34m)\u001b[0m\u001b[0;34m)\u001b[0m\u001b[0;34m\u001b[0m\u001b[0;34m\u001b[0m\u001b[0m\n\u001b[0;32m---> 36\u001b[0;31m         \u001b[0mqc\u001b[0m  \u001b[0;34m=\u001b[0m \u001b[0mqc\u001b[0m\u001b[0;34m.\u001b[0m\u001b[0mcompose\u001b[0m\u001b[0;34m(\u001b[0m\u001b[0mqc_c\u001b[0m\u001b[0;34m,\u001b[0m\u001b[0mqubits\u001b[0m\u001b[0;34m=\u001b[0m\u001b[0;34m[\u001b[0m\u001b[0;36m1\u001b[0m\u001b[0;34m]\u001b[0m\u001b[0;34m)\u001b[0m\u001b[0;34m\u001b[0m\u001b[0;34m\u001b[0m\u001b[0m\n\u001b[0m\u001b[1;32m     37\u001b[0m         \u001b[0mqc\u001b[0m\u001b[0;34m.\u001b[0m\u001b[0mmeasure\u001b[0m\u001b[0;34m(\u001b[0m\u001b[0;36m1\u001b[0m\u001b[0;34m,\u001b[0m\u001b[0;36m0\u001b[0m\u001b[0;34m)\u001b[0m\u001b[0;34m\u001b[0m\u001b[0;34m\u001b[0m\u001b[0m\n\u001b[1;32m     38\u001b[0m         \u001b[0;31m# execute the quantum circuit\u001b[0m\u001b[0;34m\u001b[0m\u001b[0;34m\u001b[0m\u001b[0m\n",
            "\u001b[0;32m/usr/local/lib/python3.10/dist-packages/qiskit/circuit/quantumcircuit.py\u001b[0m in \u001b[0;36mcompose\u001b[0;34m(self, other, qubits, clbits, front, inplace, wrap)\u001b[0m\n\u001b[1;32m    929\u001b[0m             \u001b[0mmapped_qubits\u001b[0m \u001b[0;34m=\u001b[0m \u001b[0mdest\u001b[0m\u001b[0;34m.\u001b[0m\u001b[0mqbit_argument_conversion\u001b[0m\u001b[0;34m(\u001b[0m\u001b[0mqubits\u001b[0m\u001b[0;34m)\u001b[0m\u001b[0;34m\u001b[0m\u001b[0;34m\u001b[0m\u001b[0m\n\u001b[1;32m    930\u001b[0m             \u001b[0;32mif\u001b[0m \u001b[0mlen\u001b[0m\u001b[0;34m(\u001b[0m\u001b[0mmapped_qubits\u001b[0m\u001b[0;34m)\u001b[0m \u001b[0;34m!=\u001b[0m \u001b[0mlen\u001b[0m\u001b[0;34m(\u001b[0m\u001b[0mother\u001b[0m\u001b[0;34m.\u001b[0m\u001b[0mqubits\u001b[0m\u001b[0;34m)\u001b[0m\u001b[0;34m:\u001b[0m\u001b[0;34m\u001b[0m\u001b[0;34m\u001b[0m\u001b[0m\n\u001b[0;32m--> 931\u001b[0;31m                 raise CircuitError(\n\u001b[0m\u001b[1;32m    932\u001b[0m                     \u001b[0;34mf\"Number of items in qubits parameter ({len(mapped_qubits)}) does not\"\u001b[0m\u001b[0;34m\u001b[0m\u001b[0;34m\u001b[0m\u001b[0m\n\u001b[1;32m    933\u001b[0m                     \u001b[0;34mf\" match number of qubits in the circuit ({len(other.qubits)}).\"\u001b[0m\u001b[0;34m\u001b[0m\u001b[0;34m\u001b[0m\u001b[0m\n",
            "\u001b[0;31mCircuitError\u001b[0m: 'Number of items in qubits parameter (1) does not match number of qubits in the circuit (2).'"
          ]
        }
      ]
    },
    {
      "cell_type": "markdown",
      "metadata": {
        "id": "uf70_UoAMMb6"
      },
      "source": [
        "## Parameters of Hamiltonian and Lindbladians"
      ]
    },
    {
      "cell_type": "code",
      "execution_count": null,
      "metadata": {
        "colab": {
          "base_uri": "https://localhost:8080/"
        },
        "id": "b_xzSjtpc_k3",
        "outputId": "47aa4247-c25a-480c-9a41-0746ec86c91a"
      },
      "outputs": [
        {
          "output_type": "stream",
          "name": "stdout",
          "text": [
            "theta_z =  -0.6414725691602342\n",
            "theta_x =  0.4735237017488994\n",
            "theta_y =  0.39269908169872414\n",
            "theta_ry =  3.455224024278595\n"
          ]
        }
      ],
      "source": [
        "b = 0.2\n",
        "gamma_1 = 0.1\n",
        "gamma_2 = 0.9\n",
        "\n",
        "# known analytical solution\n",
        "Delta = 2*b**2+gamma_1**2+4*gamma_1*gamma_2\n",
        "yss= (2*b*gamma_1)/Delta\n",
        "zss = (gamma_1*(gamma_1+4*gamma_2))/Delta\n",
        "\n",
        "theta_y_exact = np.pi/8\n",
        "theta_x_exact = np.arccos(zss/np.cos(theta_y_exact))\n",
        "theta_z_exact = np.arctan(-np.sin(theta_y_exact)/np.tan(theta_x_exact))\n",
        "theta_ry_exact = 2*np.arccos(-yss*np.cos(theta_z_exact)/np.sin(theta_x_exact))\n",
        "\n",
        "print(\"theta_z = \",theta_z_exact)\n",
        "print(\"theta_x = \",theta_x_exact)\n",
        "print(\"theta_y = \",theta_y_exact)\n",
        "print(\"theta_ry = \",theta_ry_exact)"
      ]
    },
    {
      "cell_type": "code",
      "execution_count": null,
      "metadata": {
        "id": "Xm6eE48mdCCh"
      },
      "outputs": [],
      "source": [
        "r\"\"\"\n",
        "\n",
        "this function returns \\mathcal{L}\\rho i.e. the right hand side of the\n",
        "Lindblad equation.\n",
        "\n",
        "input: density matrix (either exact or shadow), list of Lindbladians.\n",
        "output: right hand side of the Lindblad equation.\n",
        "\n",
        "\"\"\"\n",
        "\n",
        "def partial_trace(mat):\n",
        "    return np.matrix([[mat[0,0]+mat[1,1],mat[0,2]+mat[1,3]],\n",
        "                      [mat[2,0]+mat[3,1],mat[2,2]+mat[3,3]]])\n",
        "\n",
        "# the parameter that should be changed is the density_mat\n",
        "def lindblad_equation(density_mat, hamiltonian = -(b/2)*X,\n",
        "                      L_1 = np.sqrt(gamma_1)*np.matrix([[0,1],[0,0]]),\n",
        "                      L_2 = np.sqrt(gamma_2)*Z):\n",
        "    # reduced density matrix for the state\n",
        "    #rho_state = partial_trace(density_mat)\n",
        "    return (-1j*commutator(hamiltonian,density_mat)\n",
        "            + L_1@density_mat@(L_1.conj().T) - (1/2)*anti_commutator((L_1.conj().T)@L_1,density_mat)\n",
        "            + L_2@density_mat@(L_2.conj().T) - (1/2)*anti_commutator((L_2.conj().T)@L_2,density_mat))"
      ]
    },
    {
      "cell_type": "code",
      "execution_count": null,
      "metadata": {
        "colab": {
          "base_uri": "https://localhost:8080/"
        },
        "id": "Bm_ivTspdFcs",
        "outputId": "5461a214-86e6-41a9-c050-0ffd4b94c91f"
      },
      "outputs": [
        {
          "output_type": "execute_result",
          "data": {
            "text/plain": [
              "matrix([[0.91111111+0.j        , 0.        -0.04444444j],\n",
              "        [0.        +0.04444444j, 0.08888889+0.j        ]])"
            ]
          },
          "metadata": {},
          "execution_count": 7
        }
      ],
      "source": [
        "# density matrix in terms of angles\n",
        "def rho_SS_from_angles(theta_x,theta_y,theta_z,theta_ry):\n",
        "    rho_11 = (1/2)*(1+np.cos(theta_x)*np.cos(theta_y))\n",
        "    rho_12 = ((1/2)*np.exp(-1j*theta_z)*np.cos(theta_ry/2)*(np.sin(theta_y)*np.cos(theta_x)\n",
        "                                                           +1j*np.sin(theta_x)))\n",
        "    return np.matrix([[rho_11,rho_12],[rho_12.conj(),1-rho_11]])\n",
        "\n",
        "# analytical solution from literature.\n",
        "rho_SS_analytical = (1/2)*(I2+yss*Y+zss*Z)\n",
        "rho_SS_analytical"
      ]
    },
    {
      "cell_type": "code",
      "execution_count": null,
      "metadata": {
        "colab": {
          "base_uri": "https://localhost:8080/"
        },
        "id": "YVA3jo57dH9A",
        "outputId": "bbc11543-c107-415c-fd6e-8e760b51fda3"
      },
      "outputs": [
        {
          "output_type": "execute_result",
          "data": {
            "text/plain": [
              "matrix([[0.91111111+0.j        , 0.        -0.04444444j],\n",
              "        [0.        +0.04444444j, 0.08888889+0.j        ]])"
            ]
          },
          "metadata": {},
          "execution_count": 8
        }
      ],
      "source": [
        "# density matrix in terms of angles to verify that calculations\n",
        "# in variation of parameters are correct\n",
        "rho_SS_from_angles(theta_x_exact,theta_y_exact,theta_z_exact,theta_ry_exact)"
      ]
    },
    {
      "cell_type": "code",
      "execution_count": null,
      "metadata": {
        "colab": {
          "base_uri": "https://localhost:8080/"
        },
        "id": "4_UkrplTdKU0",
        "outputId": "6cc40a53-0f0d-4dd4-c59e-daf614e716bb"
      },
      "outputs": [
        {
          "output_type": "execute_result",
          "data": {
            "text/plain": [
              "matrix([[0.00000000e+00+0.j, 0.00000000e+00+0.j],\n",
              "        [0.00000000e+00+0.j, 1.38777878e-17+0.j]])"
            ]
          },
          "metadata": {},
          "execution_count": 9
        }
      ],
      "source": [
        "lindblad_equation(rho_SS_analytical)"
      ]
    },
    {
      "cell_type": "code",
      "execution_count": null,
      "metadata": {
        "id": "KVvLIVOegJyT"
      },
      "outputs": [],
      "source": [
        "rho_exact_from_qiskit = classical_shadow_using_ST(1,1,theta_x_exact,theta_y_exact,theta_z_exact,theta_ry_exact)[0]"
      ]
    },
    {
      "cell_type": "code",
      "execution_count": null,
      "metadata": {
        "colab": {
          "base_uri": "https://localhost:8080/"
        },
        "id": "0JOhnofMgmMl",
        "outputId": "92161090-2f1f-42ce-b4e9-db15e89c2eef"
      },
      "outputs": [
        {
          "output_type": "stream",
          "name": "stdout",
          "text": [
            "rho_SS from qiskit =  [[ 9.11111111e-01+0.j         -1.73472348e-18-0.04444444j]\n",
            " [-1.73472348e-18+0.04444444j  8.88888889e-02+0.j        ]]\n"
          ]
        }
      ],
      "source": [
        "rho_SS_from_qiskit = partial_trace(rho_exact_from_qiskit)\n",
        "print(\"rho_SS from qiskit = \", rho_SS_from_qiskit)"
      ]
    },
    {
      "cell_type": "code",
      "execution_count": null,
      "metadata": {
        "colab": {
          "base_uri": "https://localhost:8080/"
        },
        "id": "7leruokvhKcT",
        "outputId": "f73af3d8-1c5f-4802-b570-bfdff77167b3"
      },
      "outputs": [
        {
          "output_type": "execute_result",
          "data": {
            "text/plain": [
              "matrix([[1.11022302e-16+0.00000000e+00j, 3.20923843e-18+2.08166817e-17j],\n",
              "        [3.20923843e-18-2.08166817e-17j, 0.00000000e+00+0.00000000e+00j]])"
            ]
          },
          "metadata": {},
          "execution_count": 12
        }
      ],
      "source": [
        "L_rho = lindblad_equation(rho_SS_from_qiskit)\n",
        "L_rho"
      ]
    },
    {
      "cell_type": "markdown",
      "metadata": {
        "id": "uhx3jKnnMUMf"
      },
      "source": [
        "## Median of means estimator"
      ]
    },
    {
      "cell_type": "code",
      "execution_count": null,
      "metadata": {
        "id": "cgXMZMGTHJ5B"
      },
      "outputs": [],
      "source": [
        "# linear function\n",
        "def linear_o_k(O_i,k,shadow_lst):\n",
        "    s = 0.0\n",
        "    for j in range(N*(k-1)+1,N*k+1):\n",
        "        rho_j = shadow_lst[j-1]\n",
        "        s += np.trace(O_i@rho_j)\n",
        "    return s/N\n",
        "\n",
        "def linear_o(O_i,shadow_lst):\n",
        "    linear_o_k_lst = []\n",
        "    for kk in range(1,K+1):\n",
        "        linear_o_k_lst.append(linear_o_k(O_i,kk,shadow_lst))\n",
        "    return np.median(linear_o_k_lst)\n",
        "\n",
        "# quadratic function\n",
        "# median of means method to estimate the cost function\n",
        "def quadratic_o_k(k,shadow_lst):\n",
        "    s = 0.0\n",
        "    for j in range(N*(k-1)+1,N*k+1):\n",
        "        for l in range(N*(k-1)+1,N*k+1):\n",
        "            if j != l:\n",
        "                rho_j = shadow_lst[j-1]\n",
        "                rho_l = shadow_lst[l-1]\n",
        "                # cost function\n",
        "                s += np.trace(lindblad_equation(rho_j)@lindblad_equation(rho_l))\n",
        "    return s/(N*(N-1))\n",
        "\n",
        "# following function returns the estimated cost function\n",
        "def quadratic_o(shadow_lst):\n",
        "    o_k_lst = []\n",
        "    for kk in range(1,K+1):\n",
        "        o_k_lst.append(o_k(kk,shadow_lst))\n",
        "    return np.median(o_k_lst)"
      ]
    },
    {
      "cell_type": "markdown",
      "metadata": {
        "id": "W27GQnPxMbqm"
      },
      "source": [
        "## Cost function using shadow tomography"
      ]
    },
    {
      "cell_type": "code",
      "execution_count": null,
      "metadata": {
        "id": "OMfcX3yiLNQ9"
      },
      "outputs": [],
      "source": [
        "def cost_function_using_shadow_tomography(N,K,theta_x_angle,theta_y_angle,theta_z_angle,theta_ry_angle):\n",
        "\n",
        "    # performing shadow tomography\n",
        "    ST = classical_shadow_using_ST(N,K,theta_x_angle,theta_y_angle,theta_z_angle,theta_ry_angle)\n",
        "    rho_exact_from_qiskit = partial_trace(ST[0])\n",
        "    rho_shadow_lst_from_qiskit = ST[1]\n",
        "\n",
        "    rho_SS_shadow_from_qiskit_lst = []\n",
        "    # tracing over the system to obtain the system density matrix\n",
        "    for full_density_matrix in rho_shadow_lst_from_qiskit:\n",
        "        rho_SS_shadow_from_qiskit_lst.append(partial_trace(full_density_matrix))\n",
        "\n",
        "    # exact value of the cost function\n",
        "    exact_cost_function = np.trace(X@rho_exact_from_qiskit)\n",
        "    #exact_cost_function = np.trace((lindblad_equation(rho_exact_from_qiskit))**2)\n",
        "\n",
        "    return linear_o(X,rho_SS_shadow_from_qiskit_lst),exact_cost_function"
      ]
    },
    {
      "cell_type": "code",
      "execution_count": null,
      "metadata": {
        "colab": {
          "base_uri": "https://localhost:8080/"
        },
        "id": "4AL8RPfLg-zJ",
        "outputId": "8572264e-0eda-4d9c-d8a4-cf363a200176"
      },
      "outputs": [
        {
          "output_type": "stream",
          "name": "stdout",
          "text": [
            "theta_z =  -0.6414725691602342\n",
            "theta_x =  0.4735237017488994\n",
            "theta_y =  0.39269908169872414\n",
            "theta_ry =  3.455224024278595\n"
          ]
        }
      ],
      "source": [
        "print(\"theta_z = \",theta_z_exact)\n",
        "print(\"theta_x = \",theta_x_exact)\n",
        "print(\"theta_y = \",theta_y_exact)\n",
        "print(\"theta_ry = \",theta_ry_exact)"
      ]
    },
    {
      "cell_type": "code",
      "execution_count": null,
      "metadata": {
        "colab": {
          "base_uri": "https://localhost:8080/"
        },
        "id": "dgK5Z2NtM9Aq",
        "outputId": "195a3394-e004-4a3e-f869-63d785963fa8"
      },
      "outputs": [
        {
          "output_type": "stream",
          "name": "stdout",
          "text": [
            "10.596634733096073\n",
            "340000.0\n"
          ]
        }
      ],
      "source": [
        "delta = 0.01\n",
        "K = 2*np.log(2*1/delta)\n",
        "print(K)\n",
        "epsilon = 0.01\n",
        "N = (34/epsilon**2)\n",
        "print(N)"
      ]
    },
    {
      "cell_type": "code",
      "execution_count": null,
      "metadata": {
        "id": "X3cAm1AAdMmr"
      },
      "outputs": [],
      "source": [
        "divisons = 30\n",
        "angles_lst = np.linspace(-np.pi,np.pi,divisons)\n",
        "\n",
        "def cost_function(rho):\n",
        "    return np.trace(rho@rho)\n",
        "\n",
        "cost_function_array_shadow = np.zeros(divisons)\n",
        "cost_function_array_exact= np.zeros(divisons)\n",
        "N = 600\n",
        "K = 10\n",
        "for jj in range(divisons):\n",
        "    cost_functions = cost_function_using_shadow_tomography(N,K,angles_lst[jj],\n",
        "                                                           theta_y_exact,\n",
        "                                                           theta_z_exact,\n",
        "                                                           theta_ry_exact)\n",
        "    cost_function_array_shadow[jj] = cost_functions[0].real\n",
        "    cost_function_array_exact[jj]  = cost_functions[1].real"
      ]
    },
    {
      "cell_type": "code",
      "execution_count": null,
      "metadata": {
        "colab": {
          "base_uri": "https://localhost:8080/",
          "height": 568
        },
        "id": "wuJm7yW2dU8q",
        "outputId": "a71fe39b-c972-46fa-b17a-3c1c00793d68"
      },
      "outputs": [
        {
          "output_type": "display_data",
          "data": {
            "text/plain": [
              "<Figure size 800x600 with 1 Axes>"
            ],
            "image/png": "[encoded data removed]"
          },
          "metadata": {}
        }
      ],
      "source": [
        "large = 40; med = 20; small = 20\n",
        "params = {'axes.titlesize': med,\n",
        "          'axes.titlepad' : med,\n",
        "          'legend.fontsize': med,\n",
        "          'axes.labelsize': med ,\n",
        "          'axes.titlesize': med ,\n",
        "          'xtick.labelsize': med ,\n",
        "          'ytick.labelsize': med ,\n",
        "          'figure.titlesize': med}\n",
        "plt.rcParams['text.usetex'] = False\n",
        "#plt.rcParams['text.latex.preamble'] = r'\\usepackage{{amsmath}}'\n",
        "plt.rcParams.update(params)\n",
        "f = plt.figure()\n",
        "f.set_figwidth(8)\n",
        "f.set_figheight(6)\n",
        "plt.plot(angles_lst,cost_function_array_exact,c=\"red\",label=\"exact\")\n",
        "plt.plot(angles_lst,cost_function_array_shadow,c=\"blue\")\n",
        "plt.scatter(angles_lst,cost_function_array_shadow,c=\"blue\",label=\"shadow\")\n",
        "\n",
        "ax = f.gca()\n",
        "#ax.axvline(theta_x_exact, color=\"green\",label=r\"Exact $\\theta_{x}$\",linestyle=\"--\")\n",
        "ax.axhline(0, color=\"k\",linestyle=\"--\",alpha=0.5)\n",
        "#ax.axvline(-np.pi+theta_x_exact, color=\"green\",label = r\"$\\theta_{x}$\",linestyle=\"--\")\n",
        "#plt.title(\"Plot of cost function, \"+r\"$f( \\rho ) = \\textrm{tr}((\\mathcal{L}\\rho)^{2})$\")\n",
        "plt.title(\"N = 6000\")\n",
        "plt.xlabel(r\"$\\theta_{x}$\")\n",
        "plt.ylabel(r\"tr$( X \\rho )$\")\n",
        "#plt.ylim([-0.25,0.25])\n",
        "plt.legend()\n",
        "plt.gcf().subplots_adjust(bottom=0.2)\n",
        "plt.gcf().subplots_adjust(left=0.2)\n",
        "plt.savefig(\"f_as_function_of_theta_x_6000.jpg\",dpi=600)\n",
        "plt.show()"
      ]
    },
    {
      "cell_type": "code",
      "execution_count": null,
      "metadata": {
        "id": "fgu0QlB0btEv"
      },
      "outputs": [],
      "source": [
        "r\"\"\"\n",
        "rho_exact_and_shadows = classical_shadow_using_ST(100,10,theta_x_exact,theta_y_exact,theta_z_exact,theta_ry_exact)\n",
        "rho_exact = rho_exact_and_shadows[0]\n",
        "rho_shadow = np.sum(rho_exact_and_shadows[1],axis=0)/(len(rho_exact_and_shadows[1]))\"\"\";"
      ]
    },
    {
      "cell_type": "code",
      "execution_count": null,
      "metadata": {
        "id": "q0RJgyTKcGD7"
      },
      "outputs": [],
      "source": [
        "r\"\"\"\n",
        "large = 40; med = 20; small = 20\n",
        "params = {'axes.titlesize': med,\n",
        "          'axes.titlepad' : med,\n",
        "          'legend.fontsize': med,\n",
        "          'axes.labelsize': med ,\n",
        "          'axes.titlesize': med ,\n",
        "          'xtick.labelsize': med ,\n",
        "          'ytick.labelsize': med ,\n",
        "          'figure.titlesize': med}\n",
        "plt.rcParams['text.usetex'] = False\n",
        "plt.rcParams.update(params)\n",
        "from mpl_toolkits.axes_grid1 import make_axes_locatable\n",
        "fig, axs = plt.subplots(2, 2)\n",
        "fig.set_figwidth(8)\n",
        "fig.set_figheight(8)\n",
        "\n",
        "c1 = axs[0, 0].imshow(rho_exact.real)\n",
        "axs[0, 0].set_title(r\"Exact Re$[\\rho]$\")\n",
        "\n",
        "c2 = axs[0, 1].imshow(rho_shadow.real)\n",
        "axs[0, 1].set_title(r\"Shadow Re$[\\rho]$\")\n",
        "\n",
        "c3 = axs[1, 0].imshow(rho_exact.imag)\n",
        "axs[1, 0].set_title(r\"Exact Im$[\\rho]$\")\n",
        "\n",
        "c4 = axs[1, 1].imshow(rho_shadow.imag)\n",
        "axs[1, 1].set_title(r\"Shadow Im$[\\rho]$\")\n",
        "\n",
        "plt.suptitle(\"N = \"+str(len(rho_exact_and_shadows[1])))\n",
        "\n",
        "#for ax in axs.flat:\n",
        "    #ax.set(xlabel='x-label', ylabel='y-label')\n",
        "\n",
        "divider = make_axes_locatable(plt.gca())\n",
        "cax = divider.append_axes(\"right\", size=\"5%\", pad=0.05)\n",
        "\n",
        "fig.colorbar(c4, cax=cax, orientation='vertical')\n",
        "\n",
        "# Display the figure with subplots\n",
        "plt.tight_layout()\n",
        "# Hide x labels and tick labels for top plots and y ticks for right plots.\n",
        "for ax in axs.flat:\n",
        "    ax.label_outer()\n",
        "plt.tight_layout()\n",
        "plt.savefig(\"density_matrix_comparison_\"+str(len(rho_exact_and_shadows[1]))+\".jpg\", dpi=600)\n",
        "plt.show()\"\"\";"
      ]
    }
  ],
  "metadata": {
    "colab": {
      "provenance": [],
      "authorship_tag": "ABX9TyNmrLh98bqNFmEwcrQExJeU",
      "include_colab_link": true
    },
    "kernelspec": {
      "display_name": "Python 3",
      "name": "python3"
    },
    "language_info": {
      "name": "python"
    }
  },
  "nbformat": 4,
  "nbformat_minor": 0
}