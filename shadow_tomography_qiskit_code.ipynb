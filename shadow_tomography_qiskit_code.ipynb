{
  "cells": [
    {
      "cell_type": "markdown",
      "metadata": {
        "id": "view-in-github",
        "colab_type": "text"
      },
      "source": [
        "<a href=\"https://colab.research.google.com/github/psasanka1729/Ultimate-QM-MM/blob/main/shadow_tomography_qiskit_code.ipynb\" target=\"_parent\"><img src=\"https://colab.research.google.com/assets/colab-badge.svg\" alt=\"Open In Colab\"/></a>"
      ]
    },
    {
      "cell_type": "code",
      "execution_count": 1,
      "metadata": {
        "id": "jMTIwDnfa1ky"
      },
      "outputs": [],
      "source": [
        "import numpy as np\n",
        "import matplotlib.pyplot as plt\n",
        "import qiskit\n",
        "from qiskit.quantum_info import Statevector\n",
        "from qiskit import*"
      ]
    },
    {
      "cell_type": "code",
      "execution_count": 2,
      "metadata": {
        "id": "Y5h6hG1Ic14r"
      },
      "outputs": [],
      "source": [
        "I2 = np.matrix([[1,0],\n",
        "                [0,1]])\n",
        "H  = np.matrix([[1,1],\n",
        "                [1,-1]])* (1/np.sqrt(2))\n",
        "S  = np.matrix([[1,0],\n",
        "                [0,1j]])\n",
        "X  = np.matrix([[0,1],\n",
        "                [1,0]])\n",
        "Y  = np.matrix([[0,-1j],\n",
        "                [1j,0]])\n",
        "Z  = np.matrix([[1,0],\n",
        "                [0,-1]])"
      ]
    },
    {
      "cell_type": "code",
      "execution_count": 3,
      "metadata": {
        "id": "eKlepdfLc2ne"
      },
      "outputs": [],
      "source": [
        "def commutator(matrix_a,matrix_b):\n",
        "    return matrix_a@matrix_b - matrix_b@matrix_a\n",
        "def anti_commutator(matrix_a,matrix_b):\n",
        "    return matrix_a@matrix_b + matrix_b@matrix_a"
      ]
    },
    {
      "cell_type": "code",
      "execution_count": 4,
      "metadata": {
        "id": "hcKIHbjqc8PU"
      },
      "outputs": [],
      "source": [
        "N_qubit = 2\n",
        "# returns N*K classical shadows.\n",
        "def classical_shadow_using_ST(N,K,theta_x,theta_y,theta_z,theta_ry):\n",
        "\n",
        "    # setting up the quantum circuit\n",
        "    qc = QuantumCircuit(N_qubit)\n",
        "    # initializing the ancilla qubit at |0>.\n",
        "    qc.initialize([1,0],0)\n",
        "    qc.rx(theta_x,1)\n",
        "    qc.ry(theta_y,1)\n",
        "    qc.rz(theta_z,1)\n",
        "    qc.cry(theta_ry,1,0)\n",
        "\n",
        "    # qiskit returns the statevector as a row.\n",
        "    # taking transpose to make it a column vector.\n",
        "    sv = np.matrix(Statevector.from_instruction(qc)).T\n",
        "    rho_SS = sv@(sv.conj().T)\n",
        "\n",
        "    # number of shadows\n",
        "    nShadows = N*K\n",
        "    # number of shots\n",
        "    number_of_shots = 1\n",
        "    #rng = np.random.default_rng(1000)\n",
        "    cliffords = [qiskit.quantum_info.random_clifford(N_qubit) for _ in range(nShadows)]\n",
        "    results = []\n",
        "    for cliff in cliffords:\n",
        "        qc_c  = qc.compose(cliff.to_circuit())\n",
        "        # samples the output in computational basis.\n",
        "        counts = qiskit.quantum_info.Statevector(qc_c).sample_counts(number_of_shots)\n",
        "        results.append(counts)\n",
        "\n",
        "    # performing rho_hat = (2**N+1)*(U^{\\dagger}|b><b|U-I).\n",
        "    shadow_lst = []\n",
        "    # loops over the clifford gates and their corresponding measurement results.\n",
        "    for cliff, res in zip(cliffords, results):\n",
        "        # U^{\\dagger} matrix.\n",
        "        mat    = cliff.adjoint().to_matrix()\n",
        "        for bit,count in res.items():\n",
        "            Ub = mat[:,int(bit,2)] # this is Udag|b>\n",
        "            shadow_lst.append(((2**N_qubit+1.))*np.outer(Ub,Ub.conj())*count - np.eye(2**N_qubit))\n",
        "    return rho_SS, shadow_lst"
      ]
    },
    {
      "cell_type": "code",
      "execution_count": 5,
      "metadata": {
        "colab": {
          "base_uri": "https://localhost:8080/"
        },
        "id": "b_xzSjtpc_k3",
        "outputId": "40f029d5-3532-4b0c-c64e-608576db158a"
      },
      "outputs": [
        {
          "output_type": "stream",
          "name": "stdout",
          "text": [
            "theta_z =  -0.6414725691602342\n",
            "theta_x =  0.4735237017488994\n",
            "theta_y =  0.39269908169872414\n",
            "theta_ry =  3.455224024278595\n"
          ]
        }
      ],
      "source": [
        "b = 0.2\n",
        "gamma_1 = 0.1\n",
        "gamma_2 = 0.9\n",
        "\n",
        "# known analytical solution\n",
        "Delta = 2*b**2+gamma_1**2+4*gamma_1*gamma_2\n",
        "yss= (2*b*gamma_1)/Delta\n",
        "zss = (gamma_1*(gamma_1+4*gamma_2))/Delta\n",
        "\n",
        "theta_y_exact = np.pi/8\n",
        "theta_x_exact = np.arccos(zss/np.cos(theta_y_exact))\n",
        "theta_z_exact = np.arctan(-np.sin(theta_y_exact)/np.tan(theta_x_exact))\n",
        "theta_ry_exact = 2*np.arccos(-yss*np.cos(theta_z_exact)/np.sin(theta_x_exact))\n",
        "\n",
        "print(\"theta_z = \",theta_z_exact)\n",
        "print(\"theta_x = \",theta_x_exact)\n",
        "print(\"theta_y = \",theta_y_exact)\n",
        "print(\"theta_ry = \",theta_ry_exact)"
      ]
    },
    {
      "cell_type": "code",
      "execution_count": 6,
      "metadata": {
        "id": "Xm6eE48mdCCh"
      },
      "outputs": [],
      "source": [
        "r\"\"\"\n",
        "\n",
        "this function returns \\mathcal{L}\\rho i.e. the right hand side of the\n",
        "Lindblad equation.\n",
        "\n",
        "input: density matrix (either exact or shadow), list of Lindbladians.\n",
        "output: right hand side of the Lindblad equation.\n",
        "\n",
        "\"\"\"\n",
        "\n",
        "def partial_trace(mat):\n",
        "    return np.matrix([[mat[0,0]+mat[1,1],mat[0,2]+mat[1,3]],\n",
        "                      [mat[2,0]+mat[3,1],mat[2,2]+mat[3,3]]])\n",
        "\n",
        "# the parameter that should be changed is the density_mat\n",
        "def lindblad_equation(density_mat, hamiltonian, L_1, L_2):\n",
        "    # reduced density matrix for the state\n",
        "    #rho_state = partial_trace(density_mat)\n",
        "    return (-1j*commutator(hamiltonian,density_mat)\n",
        "            + L_1@density_mat@(L_1.conj().T) - (1/2)*anti_commutator((L_1.conj().T)@L_1,density_mat)\n",
        "            + L_2@density_mat@(L_2.conj().T) - (1/2)*anti_commutator((L_2.conj().T)@L_2,density_mat))"
      ]
    },
    {
      "cell_type": "code",
      "execution_count": 7,
      "metadata": {
        "colab": {
          "base_uri": "https://localhost:8080/"
        },
        "id": "Bm_ivTspdFcs",
        "outputId": "532dfa6d-168b-464c-b156-008ceaa42669"
      },
      "outputs": [
        {
          "output_type": "execute_result",
          "data": {
            "text/plain": [
              "matrix([[0.91111111+0.j        , 0.        -0.04444444j],\n",
              "        [0.        +0.04444444j, 0.08888889+0.j        ]])"
            ]
          },
          "metadata": {},
          "execution_count": 7
        }
      ],
      "source": [
        "# density matrix in terms of angles\n",
        "def rho_SS_from_angles(theta_x,theta_y,theta_z,theta_ry):\n",
        "    rho_11 = (1/2)*(1+np.cos(theta_x)*np.cos(theta_y))\n",
        "    rho_12 = ((1/2)*np.exp(-1j*theta_z)*np.cos(theta_ry/2)*(np.sin(theta_y)*np.cos(theta_x)\n",
        "                                                           +1j*np.sin(theta_x)))\n",
        "    return np.matrix([[rho_11,rho_12],[rho_12.conj(),1-rho_11]])\n",
        "\n",
        "# analytical solution from literature.\n",
        "rho_SS_analytical = (1/2)*(I2+yss*Y+zss*Z)\n",
        "rho_SS_analytical"
      ]
    },
    {
      "cell_type": "code",
      "execution_count": 8,
      "metadata": {
        "colab": {
          "base_uri": "https://localhost:8080/"
        },
        "id": "YVA3jo57dH9A",
        "outputId": "b8058c5e-61da-4d14-ba1d-5d0396b0a5da"
      },
      "outputs": [
        {
          "output_type": "execute_result",
          "data": {
            "text/plain": [
              "matrix([[0.91111111+0.j        , 0.        -0.04444444j],\n",
              "        [0.        +0.04444444j, 0.08888889+0.j        ]])"
            ]
          },
          "metadata": {},
          "execution_count": 8
        }
      ],
      "source": [
        "# density matrix in terms of angles to verify that calculations\n",
        "# in variation of parameters are correct\n",
        "rho_SS_from_angles(theta_x_exact,theta_y_exact,theta_z_exact,theta_ry_exact)"
      ]
    },
    {
      "cell_type": "code",
      "execution_count": 9,
      "metadata": {
        "colab": {
          "base_uri": "https://localhost:8080/"
        },
        "id": "4_UkrplTdKU0",
        "outputId": "2b49cbbb-ccdc-47fb-dc1a-4ba53c35554a"
      },
      "outputs": [
        {
          "output_type": "execute_result",
          "data": {
            "text/plain": [
              "matrix([[0.00000000e+00+0.j, 0.00000000e+00+0.j],\n",
              "        [0.00000000e+00+0.j, 1.38777878e-17+0.j]])"
            ]
          },
          "metadata": {},
          "execution_count": 9
        }
      ],
      "source": [
        "lindblad_equation(rho_SS_analytical,-(b/2)*X,np.sqrt(gamma_1)*np.matrix([[0,1],[0,0]]),np.sqrt(gamma_2)*Z)"
      ]
    },
    {
      "cell_type": "code",
      "execution_count": 10,
      "metadata": {
        "id": "KVvLIVOegJyT"
      },
      "outputs": [],
      "source": [
        "rho_exact_from_qiskit = classical_shadow_using_ST(1,1,theta_x_exact,theta_y_exact,theta_z_exact,theta_ry_exact)[0]"
      ]
    },
    {
      "cell_type": "code",
      "execution_count": 11,
      "metadata": {
        "colab": {
          "base_uri": "https://localhost:8080/"
        },
        "id": "0JOhnofMgmMl",
        "outputId": "f5e1d7fe-b593-483a-d062-3fe4e67f6e64"
      },
      "outputs": [
        {
          "output_type": "stream",
          "name": "stdout",
          "text": [
            "rho_SS from qiskit =  [[ 9.11111111e-01+0.j         -1.73472348e-18-0.04444444j]\n",
            " [-1.73472348e-18+0.04444444j  8.88888889e-02+0.j        ]]\n"
          ]
        }
      ],
      "source": [
        "rho_SS_from_qiskit = partial_trace(rho_exact_from_qiskit)\n",
        "print(\"rho_SS from qiskit = \", rho_SS_from_qiskit)"
      ]
    },
    {
      "cell_type": "code",
      "execution_count": 12,
      "metadata": {
        "colab": {
          "base_uri": "https://localhost:8080/"
        },
        "id": "7leruokvhKcT",
        "outputId": "80a6d7fc-b6d4-4c2e-b99f-b725fb96ddc6"
      },
      "outputs": [
        {
          "output_type": "execute_result",
          "data": {
            "text/plain": [
              "matrix([[1.11022302e-16+0.00000000e+00j, 3.20923843e-18+2.08166817e-17j],\n",
              "        [3.20923843e-18-2.08166817e-17j, 0.00000000e+00+0.00000000e+00j]])"
            ]
          },
          "metadata": {},
          "execution_count": 12
        }
      ],
      "source": [
        "L_rho = lindblad_equation(rho_SS_from_qiskit,-(b/2)*X,np.sqrt(gamma_1)*np.matrix([[0,1],[0,0]]),np.sqrt(gamma_2)*Z)\n",
        "L_rho"
      ]
    },
    {
      "cell_type": "code",
      "execution_count": 13,
      "metadata": {
        "id": "nmXH1Sw962zE"
      },
      "outputs": [],
      "source": [
        "#cost_function(L_rho)"
      ]
    },
    {
      "cell_type": "code",
      "execution_count": 14,
      "metadata": {
        "colab": {
          "base_uri": "https://localhost:8080/"
        },
        "id": "OCFBHqtsn3bC",
        "outputId": "34757bd7-b3b7-4d26-a9ce-04a975a489bf"
      },
      "outputs": [
        {
          "output_type": "stream",
          "name": "stdout",
          "text": [
            "theta_z =  -0.6414725691602342\n",
            "theta_x =  0.4735237017488994\n",
            "theta_y =  0.39269908169872414\n",
            "theta_ry =  3.455224024278595\n"
          ]
        }
      ],
      "source": [
        "print(\"theta_z = \",theta_z_exact)\n",
        "print(\"theta_x = \",theta_x_exact)\n",
        "print(\"theta_y = \",theta_y_exact)\n",
        "print(\"theta_ry = \",theta_ry_exact)"
      ]
    },
    {
      "cell_type": "code",
      "execution_count": 15,
      "metadata": {
        "id": "X3cAm1AAdMmr"
      },
      "outputs": [],
      "source": [
        "divisons = 30\n",
        "theta_y_lst = np.linspace(0,1,divisons)\n",
        "\n",
        "def cost_function(rho):\n",
        "    return np.trace(rho@rho)\n",
        "\n",
        "exact_rho_lst  = []\n",
        "shadow_rho_lst = []\n",
        "\n",
        "cost_function_array_shadow = np.zeros(divisons)\n",
        "cost_function_array_exact= np.zeros(divisons)\n",
        "N = 100\n",
        "K = 10\n",
        "for yy in range(divisons):\n",
        "            ST = classical_shadow_using_ST(N,K,theta_x_exact,\n",
        "                                               theta_y_lst[yy],\n",
        "                                               theta_z_exact,\n",
        "                                               theta_ry_exact)\n",
        "            rho_exact = ST[0]\n",
        "            exact_rho_lst.append(rho_exact)\n",
        "            rho_shadow_lst = ST[1]\n",
        "            rho_shadow  = np.sum(rho_shadow_lst,axis=0)/(len(rho_shadow_lst))\n",
        "            shadow_rho_lst.append(partial_trace(rho_shadow))\n",
        "\n",
        "            Liouv_rho_exact= lindblad_equation(partial_trace(rho_exact),-(b/2)*X,\n",
        "                                                 np.sqrt(gamma_1)*np.matrix([[0,1],[0,0]]),\n",
        "                                                 np.sqrt(gamma_2)*Z)\n",
        "            Liouv_rho_shadow = lindblad_equation(partial_trace(rho_shadow),-(b/2)*X,\n",
        "                                                 np.sqrt(gamma_1)*np.matrix([[0,1],[0,0]]),\n",
        "                                                 np.sqrt(gamma_2)*Z)\n",
        "\n",
        "            cost_function_array_exact[yy] = cost_function(Liouv_rho_exact).real\n",
        "            cost_function_array_shadow[yy] = cost_function(Liouv_rho_shadow).real"
      ]
    },
    {
      "cell_type": "code",
      "execution_count": 16,
      "metadata": {
        "colab": {
          "base_uri": "https://localhost:8080/",
          "height": 576
        },
        "id": "wuJm7yW2dU8q",
        "outputId": "17652c5d-9cc5-49b6-8543-5cc4c26f38c3"
      },
      "outputs": [
        {
          "output_type": "display_data",
          "data": {
            "text/plain": [
              "<Figure size 800x600 with 1 Axes>"
            ],
            "image/png": "[encoded data removed]"
          },
          "metadata": {}
        }
      ],
      "source": [
        "large = 40; med = 20; small = 20\n",
        "params = {'axes.titlesize': med,\n",
        "          'axes.titlepad' : med,\n",
        "          'legend.fontsize': med,\n",
        "          'axes.labelsize': med ,\n",
        "          'axes.titlesize': med ,\n",
        "          'xtick.labelsize': med ,\n",
        "          'ytick.labelsize': med ,\n",
        "          'figure.titlesize': med}\n",
        "plt.rcParams['text.usetex'] = False\n",
        "#plt.rcParams['text.latex.preamble'] = r'\\usepackage{{amsmath}}'\n",
        "plt.rcParams.update(params)\n",
        "f = plt.figure()\n",
        "f.set_figwidth(8)\n",
        "f.set_figheight(6)\n",
        "plt.plot(theta_y_lst,cost_function_array_exact,c=\"red\",label=\"exact \"+r\"$f(\\rho)$\")\n",
        "plt.plot(theta_y_lst,cost_function_array_shadow,c=\"blue\")\n",
        "plt.scatter(theta_y_lst,cost_function_array_shadow,c=\"blue\",label=\"shadow \"+r\"$f(\\rho)$\")\n",
        "\n",
        "ax = f.gca()\n",
        "ax.axvline(theta_y_exact, color=\"green\",label=r\"Exact $\\theta_{y}$\",linestyle=\"--\")\n",
        "ax.axhline(0, color=\"k\",linestyle=\"--\")\n",
        "#ax.axvline(-np.pi+theta_x_exact, color=\"green\",label = r\"$\\theta_{x}$\",linestyle=\"--\")\n",
        "#plt.title(\"Plot of cost function, \"+r\"$f( \\rho ) = \\textrm{tr}((\\mathcal{L}\\rho)^{2})$\")\n",
        "plt.xlabel(r\"$\\theta_{y}$\")\n",
        "plt.ylabel(r\"$f( \\rho )$\")\n",
        "plt.legend()\n",
        "plt.savefig(\"f_as_function_of_theta_y_5000.jpg\",dpi=600)\n",
        "plt.show()"
      ]
    }
  ],
  "metadata": {
    "colab": {
      "provenance": [],
      "authorship_tag": "ABX9TyMGtj1Kl5e0AUmqNW0n4gyc",
      "include_colab_link": true
    },
    "kernelspec": {
      "display_name": "Python 3",
      "name": "python3"
    },
    "language_info": {
      "name": "python"
    }
  },
  "nbformat": 4,
  "nbformat_minor": 0
}