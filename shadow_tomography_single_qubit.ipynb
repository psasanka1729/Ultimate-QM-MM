{
 "cells": [
  {
   "cell_type": "code",
   "execution_count": 1,
   "id": "28f2e083-349f-4710-95d8-39e3f60f7282",
   "metadata": {},
   "outputs": [],
   "source": [
    "import random\n",
    "import numpy as np\n",
    "from qiskit import*\n",
    "from qiskit.circuit.library import UnitaryGate"
   ]
  },
  {
   "cell_type": "code",
   "execution_count": 2,
   "id": "0ca1710a-d9e0-4870-aafe-1912c92dcbf4",
   "metadata": {},
   "outputs": [],
   "source": [
    "I2 = np.matrix([[1,0],[0,1]])\n",
    "H  = np.matrix([[1,1],[1,-1]])* (1/np.sqrt(2))\n",
    "S  = np.matrix([[1,0],[0,1j]])\n",
    "X  = np.matrix([[0,1],[1,0]])\n",
    "Y  = np.matrix([[0,-1j],[1j,0]])\n",
    "Z  = np.matrix([[1,0],[0,-1]])\n",
    "\n",
    "r\"\"\"\n",
    "\n",
    "Clifford group is defined as the quotient group C_{n}/U(1) which counts elements in C_{n} that differs\n",
    "only by an overall global phase factor as the same element. In that case, any element of C_{n}/U(1)\n",
    "can be written as a product a*b where a \\in A and b \\in B.\n",
    "\n",
    "\"\"\"\n",
    "A = [I2,S,H,H@S,S@H,H@S@H]\n",
    "B = [I2,X,Y,Z]\n",
    "\n",
    "single_qubit_Clifford_group = []\n",
    "for a in A:\n",
    "    for b in B:\n",
    "        single_qubit_Clifford_group.append(a@b)"
   ]
  },
  {
   "cell_type": "code",
   "execution_count": 3,
   "id": "c594148e-0be6-4ac8-9852-5ad5b6c20192",
   "metadata": {},
   "outputs": [],
   "source": [
    "# Hamiltonians and Lindbladians\n",
    "b       = 0.1\n",
    "gamma_1 = 0.2\n",
    "gamma_2 = 0.3\n",
    "\n",
    "Hamiltonian = (-b/2)*X\n",
    "L_1 = np.sqrt(gamma_1)*np.matrix([[0,1],[1,0]])\n",
    "L_2 = np.sqrt(gamma_2)*Z\n",
    "\n",
    "# steady state density matrix parameters\n",
    "Delta = 2*b**2+gamma_1**2+4*gamma_1*gamma_2\n",
    "yss   = (2*b*gamma_1)/Delta\n",
    "zss   = (gamma_1*(gamma_1+4*gamma_2))/Delta\n",
    "\n",
    "# steady state density matrix\n",
    "rho_ss = (1/2)*(I2+yss*Y+zss*Z)\n",
    "\n",
    "# angles for steady state preparation\n",
    "theta_x = np.arccos(zss)\n",
    "theta_y = np.arccos(-yss/(4*np.sqrt(1+zss**2)))"
   ]
  },
  {
   "cell_type": "code",
   "execution_count": 4,
   "id": "c5ae7c8d-ebaf-462c-84ec-353355367bd0",
   "metadata": {},
   "outputs": [],
   "source": [
    "# function to be determined\n",
    "def f(rho,X_p,X_q,X_r):\n",
    "    return np.tr(X_p@rho@X_q@rho@X_r)"
   ]
  },
  {
   "cell_type": "code",
   "execution_count": 5,
   "id": "d79e8e49-62a7-4ed7-97b4-22422c50ae0e",
   "metadata": {},
   "outputs": [],
   "source": [
    "def classical_shadow():\n",
    "    # setting up the quantum circuit\n",
    "    density_matrix_qubit = QuantumRegister(1, r\"\\rho\")\n",
    "    ancilla_qubit = QuantumRegister(1, \"ancilla\")\n",
    "    cbit = ClassicalRegister(1,\"cbit\")\n",
    "    qc = QuantumCircuit(density_matrix_qubit,ancilla_qubit,cbit)\n",
    "    # initializing the ancilla qubit at |0>.\n",
    "    qc.initialize([1,0],1)\n",
    "    qc.barrier()\n",
    "    qc.rx(theta_x,0)\n",
    "    qc.cry(theta_y,0,1)\n",
    "\n",
    "    # random Clifford rotation\n",
    "    U = random.choice(single_qubit_Clifford_group)\n",
    "    random_Clifford_gate = UnitaryGate(U.tolist())\n",
    "    qc.append(random_Clifford_gate,[0])\n",
    "    \n",
    "    # measuring the qubit after Clifford rotation\n",
    "    qc.measure(0,0)\n",
    "\n",
    "    # Use Aer's qasm_simulator\n",
    "    backend_sim = Aer.get_backend('qasm_simulator')\n",
    "\n",
    "    # Execute the circuit on the qasm simulator.\n",
    "    number_of_shots = 1\n",
    "    job_sim = backend_sim.run(transpile(qc, backend_sim), shots=number_of_shots)\n",
    "\n",
    "    # Grab the results from the job.\n",
    "    result_sim = job_sim.result()\n",
    "    counts = result_sim.get_counts(qc)        \n",
    "        \n",
    "    try:\n",
    "        counts[\"0\"] == 0\n",
    "        b_ket = np.matrix([[1,0]]).conj().T\n",
    "    except KeyError:\n",
    "        b_ket = np.matrix([[0,1]]).conj().T\n",
    "        \n",
    "    n = 1\n",
    "    rho_hat = (2**n+1)*(U.conj().T)@b_ket@(b_ket.conj().T)@U - np.identity(2**n)\n",
    "    return rho_hat,qc"
   ]
  },
  {
   "cell_type": "code",
   "execution_count": 49,
   "id": "1b3c87fa-a6c6-41f3-b4e9-2be570d98fb6",
   "metadata": {},
   "outputs": [
    {
     "data": {
      "text/plain": [
       "49911.722070070864"
      ]
     },
     "execution_count": 49,
     "metadata": {},
     "output_type": "execute_result"
    }
   ],
   "source": [
    "rho_1 = classical_shadow()[0]\n",
    "rho_2 = classical_shadow()[0]\n",
    "(34/0.1**2)*8*np.sqrt(np.var([np.trace(rho_1@rho_2),np.trace(Y@rho_1@rho_2),np.trace(Z@rho_1@rho_2),np.trace(X@rho_1@X@rho_2),np.trace(Y@rho_1@Y@rho_2),\n",
    "      np.trace(Z@rho_1@Z@rho_2),np.trace(X@rho_1@Y@rho_2),np.trace(Y@rho_1@Z@rho_2)]))"
   ]
  },
  {
   "cell_type": "code",
   "execution_count": 7,
   "id": "821e7cfd-44b3-4781-ba1d-f813623df588",
   "metadata": {},
   "outputs": [
    {
     "data": {
      "text/plain": [
       "14.755517816455745"
      ]
     },
     "execution_count": 7,
     "metadata": {},
     "output_type": "execute_result"
    }
   ],
   "source": [
    "2*np.log(2*8/0.01)"
   ]
  },
  {
   "cell_type": "code",
   "execution_count": 8,
   "id": "96ce84f9-a48b-4591-bb96-78d1ebb8c34a",
   "metadata": {},
   "outputs": [],
   "source": [
    "N = 100\n",
    "K = 14\n",
    "\n",
    "rho_hat_lst = []\n",
    "for i in range(N*K):\n",
    "    rho_hat = classical_shadow()[0]\n",
    "    rho_hat_lst.append(rho_hat)"
   ]
  },
  {
   "cell_type": "code",
   "execution_count": 9,
   "id": "ffcbea15-04ff-4246-997f-3724d609076b",
   "metadata": {},
   "outputs": [
    {
     "data": {
      "text/plain": [
       "(-8.691139839237337e-18-2.6017347647781444e-18j)"
      ]
     },
     "execution_count": 9,
     "metadata": {},
     "output_type": "execute_result"
    }
   ],
   "source": [
    "O_i = X\n",
    "o_k_lst = []\n",
    "for k in range(K):\n",
    "    o_k_i = 0\n",
    "    # construction of o^{k}_{i}(N,1)\n",
    "    for j in range(N*(k-1)+1,N*k+1,1):\n",
    "        for l in range(N*(k-1)+1,N*k+1,1):\n",
    "            if j != l:\n",
    "                rho_hat_j = rho_hat_lst[j]\n",
    "                rho_hat_l = rho_hat_lst[l]\n",
    "                o_k_i += np.trace(O_i@rho_hat_j@rho_hat_l)\n",
    "    o_k_lst.append(o_k_i/(N*(N-1)))\n",
    "np.median(o_k_lst)"
   ]
  },
  {
   "cell_type": "code",
   "execution_count": null,
   "id": "ccaaf728-ea23-4f69-8ca8-b93a79abf4f4",
   "metadata": {},
   "outputs": [],
   "source": []
  }
 ],
 "metadata": {
  "kernelspec": {
   "display_name": "Python 3 (ipykernel)",
   "language": "python",
   "name": "python3"
  },
  "language_info": {
   "codemirror_mode": {
    "name": "ipython",
    "version": 3
   },
   "file_extension": ".py",
   "mimetype": "text/x-python",
   "name": "python",
   "nbconvert_exporter": "python",
   "pygments_lexer": "ipython3",
   "version": "3.9.12"
  }
 },
 "nbformat": 4,
 "nbformat_minor": 5
}
