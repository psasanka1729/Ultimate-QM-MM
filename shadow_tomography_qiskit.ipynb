{
 "cells": [
  {
   "cell_type": "code",
   "execution_count": 86,
   "id": "d23cc9f9",
   "metadata": {},
   "outputs": [],
   "source": [
    "import numpy as np\n",
    "import matplotlib.pyplot as plt\n",
    "import qiskit\n",
    "from qiskit import*"
   ]
  },
  {
   "cell_type": "code",
   "execution_count": 87,
   "id": "dd016dcf",
   "metadata": {},
   "outputs": [],
   "source": [
    "pauli_list = [\n",
    "    np.eye(2),\n",
    "    np.array([[0.0, 1.0], [1.0, 0.0]]),\n",
    "    np.array([[0, -1.0j], [1.0j, 0.0]]),\n",
    "    np.array([[1.0, 0.0], [0.0, -1.0]]),]"
   ]
  },
  {
   "cell_type": "code",
   "execution_count": 88,
   "id": "e2a827aa-6c68-4664-b9e4-52e07d9099c6",
   "metadata": {},
   "outputs": [],
   "source": [
    "# parameters of Hamiltonians and Lindbladians\n",
    "b       = 0.1\n",
    "gamma_1 = 0.02\n",
    "gamma_2 = 0.05\n",
    "\n",
    "I2 = pauli_list[0]\n",
    "X = pauli_list[1]\n",
    "Y = pauli_list[2]\n",
    "Z = pauli_list[3]\n",
    "Hamiltonian = (-b/2)*X\n",
    "L_1 = np.sqrt(gamma_1)*np.matrix([[0,1],[1,0]])\n",
    "L_2 = np.sqrt(gamma_2)*Z\n",
    "\n",
    "# steady state density matrix parameters\n",
    "Delta = 2*b**2+gamma_1**2+4*gamma_1*gamma_2\n",
    "yss   = (2*b*gamma_1)/Delta\n",
    "zss   = (gamma_1*(gamma_1+4*gamma_2))/Delta\n",
    "\n",
    "# steady state density matrix\n",
    "rho_ss = (1/2)*(I2+yss*Y+zss*Z)\n",
    "\n",
    "# angles for steady state preparation\n",
    "theta_x = np.arccos(zss)\n",
    "theta_y = np.arccos(-yss/(4*np.sqrt(1+zss**2)))"
   ]
  },
  {
   "cell_type": "markdown",
   "id": "79f58712",
   "metadata": {},
   "source": [
    "## Clifford"
   ]
  },
  {
   "cell_type": "code",
   "execution_count": 94,
   "id": "619af636",
   "metadata": {},
   "outputs": [],
   "source": [
    "# number of shadows\n",
    "nShadows = 1500\n",
    "# number of shots\n",
    "number_of_shots = 1\n",
    "# number of qubits in the system\n",
    "N = 2\n",
    "rng = np.random.default_rng(1717)\n",
    "cliffords = [qiskit.quantum_info.random_clifford(N, seed=rng) for _ in range(nShadows)]\n",
    "\n",
    "\n",
    "# setting up the quantum circuit\n",
    "density_matrix_qubit = QuantumRegister(1, r\"\\rho_{in}\")\n",
    "ancilla_qubit = QuantumRegister(1, \"ancilla\")\n",
    "qc = QuantumCircuit(density_matrix_qubit,ancilla_qubit)\n",
    "# initializing the ancilla qubit at |0>.\n",
    "qc.initialize([1,0],1)\n",
    "qc.barrier()\n",
    "qc.rx(theta_x,0)\n",
    "qc.cry(theta_y,0,1)\n",
    "\n",
    "results = []\n",
    "\n",
    "# random unitary rotation is performed nShadows times. \n",
    "r\"\"\" \n",
    "each time the unitary rotation is perfomed on the same initial circuit. \n",
    "So the Clifford gate part is composed on the initial circuit. \"\"\"\n",
    "for cliff in cliffords:\n",
    "    qc_c  = qc.compose(cliff.to_circuit())\n",
    "    # samples the output in computational basis.\n",
    "    counts = qiskit.quantum_info.Statevector(qc_c).sample_counts(number_of_shots)\n",
    "    results.append(counts)"
   ]
  },
  {
   "cell_type": "code",
   "execution_count": 96,
   "id": "261472aa",
   "metadata": {},
   "outputs": [],
   "source": [
    "#qc_c.draw(\"mpl\",scale=2)"
   ]
  },
  {
   "cell_type": "code",
   "execution_count": 91,
   "id": "743b10ba",
   "metadata": {},
   "outputs": [],
   "source": [
    "# collects the classical shadows.\n",
    "shadows = []\n",
    "# loops over the clifford gates and their corresponding results.\n",
    "for cliff, res in zip(cliffords, results):\n",
    "    # U^{\\dagger} matrix.\n",
    "    mat    = cliff.adjoint().to_matrix()\n",
    "    for bit,count in res.items():\n",
    "        Ub = mat[:,int(bit,2)] # this is Udag|b>\n",
    "        # classical shadow for Clifford = (2**N+1)*(U^{\\dagger}|b><b|U-I).\n",
    "        shadows.append(((2**N+1.))*np.outer(Ub,Ub.conj())*count - np.eye(2**N))\n",
    "\n",
    "# averaging over all shadows.\n",
    "rho_shadow = np.sum(shadows,axis=0)/(nShadows*number_of_shots)\n",
    "# actual density matrix.\n",
    "rho_actual = qiskit.quantum_info.DensityMatrix(qc).data"
   ]
  },
  {
   "cell_type": "code",
   "execution_count": 93,
   "id": "f6adb938-6574-433b-b90a-6534c891874b",
   "metadata": {},
   "outputs": [
    {
     "data": {
      "image/png": "[encoded data removed]",
      "text/plain": [
       "<Figure size 576x576 with 5 Axes>"
      ]
     },
     "metadata": {
      "needs_background": "light"
     },
     "output_type": "display_data"
    }
   ],
   "source": [
    "large = 40; med = 20; small = 20\n",
    "params = {'axes.titlesize': med,\n",
    "          'axes.titlepad' : med,\n",
    "          'legend.fontsize': med,\n",
    "          'axes.labelsize': med ,\n",
    "          'axes.titlesize': med ,\n",
    "          'xtick.labelsize': med ,\n",
    "          'ytick.labelsize': med ,\n",
    "          'figure.titlesize': med}\n",
    "plt.rcParams['text.usetex'] = True\n",
    "plt.rcParams.update(params)\n",
    "from mpl_toolkits.axes_grid1 import make_axes_locatable\n",
    "fig, axs = plt.subplots(2, 2)\n",
    "fig.set_figwidth(8)\n",
    "fig.set_figheight(8)\n",
    "c1 = axs[0, 0].imshow(rho_actual.real)\n",
    "#fig.colorbar(c1, ax=axs[0, 0])\n",
    "axs[0, 0].set_title(\"Actual real\")\n",
    "c2 = axs[0, 1].imshow(rho_shadow.real)\n",
    "#fig.colorbar(c2, ax=axs[0, 1])\n",
    "axs[0, 1].set_title(\"Shadow real\")\n",
    "c3 = axs[1, 0].imshow(rho_shadow.imag)\n",
    "#fig.colorbar(c3, ax=axs[1, 0])\n",
    "axs[1, 0].set_title(\"Actual imaginary\")\n",
    "c4 = axs[1, 1].imshow(rho_shadow.imag)\n",
    "#fig.colorbar(c4, ax=axs[1,1])\n",
    "axs[1, 1].set_title(\"Shadow imaginary\")\n",
    "plt.suptitle(\"N = \"+str(nShadows))\n",
    "\n",
    "#for ax in axs.flat:\n",
    "    #ax.set(xlabel='x-label', ylabel='y-label')\n",
    "\n",
    "divider = make_axes_locatable(plt.gca())\n",
    "cax = divider.append_axes(\"right\", size=\"5%\", pad=0.05)\n",
    "\n",
    "fig.colorbar(c4, cax=cax, orientation='vertical')\n",
    "\n",
    "# Display the figure with subplots\n",
    "plt.tight_layout()    \n",
    "# Hide x labels and tick labels for top plots and y ticks for right plots.\n",
    "for ax in axs.flat:\n",
    "    ax.label_outer()\n",
    "plt.tight_layout()\n",
    "#plt.savefig(\"density_matrix_comparison_\"+str(nShadows)+\".jpg\", dpi=600)\n",
    "plt.show()"
   ]
  },
  {
   "cell_type": "code",
   "execution_count": null,
   "id": "65d2c747-08d7-459c-9d96-b4755b18a47e",
   "metadata": {},
   "outputs": [],
   "source": []
  }
 ],
 "metadata": {
  "kernelspec": {
   "display_name": "Python 3 (ipykernel)",
   "language": "python",
   "name": "python3"
  },
  "language_info": {
   "codemirror_mode": {
    "name": "ipython",
    "version": 3
   },
   "file_extension": ".py",
   "mimetype": "text/x-python",
   "name": "python",
   "nbconvert_exporter": "python",
   "pygments_lexer": "ipython3",
   "version": "3.9.12"
  }
 },
 "nbformat": 4,
 "nbformat_minor": 5
}
