{
 "cells": [
  {
   "cell_type": "code",
   "execution_count": 1,
   "id": "d23cc9f9",
   "metadata": {},
   "outputs": [],
   "source": [
    "import numpy as np\n",
    "import matplotlib.pyplot as plt\n",
    "import qiskit\n",
    "from qiskit.quantum_info import Statevector\n",
    "from qiskit import*"
   ]
  },
  {
   "cell_type": "markdown",
   "id": "1f9b8e27-75ec-4bdb-8c7d-0ee59db7707f",
   "metadata": {
    "jp-MarkdownHeadingCollapsed": true,
    "tags": []
   },
   "source": [
    "## Pauli matrices"
   ]
  },
  {
   "cell_type": "code",
   "execution_count": 2,
   "id": "dd016dcf",
   "metadata": {},
   "outputs": [],
   "source": [
    "I2 = np.matrix([[1,0],\n",
    "                [0,1]])\n",
    "H  = np.matrix([[1,1],\n",
    "                [1,-1]])* (1/np.sqrt(2))\n",
    "S  = np.matrix([[1,0],\n",
    "                [0,1j]])\n",
    "X  = np.matrix([[0,1],\n",
    "                [1,0]])\n",
    "Y  = np.matrix([[0,-1j],\n",
    "                [1j,0]])\n",
    "Z  = np.matrix([[1,0],\n",
    "                [0,-1]])"
   ]
  },
  {
   "cell_type": "code",
   "execution_count": 3,
   "id": "29ae1a86-2d6a-4b00-be18-a6138989a320",
   "metadata": {},
   "outputs": [],
   "source": [
    "def commutator(matrix_a,matrix_b):\n",
    "    return matrix_a@matrix_b - matrix_b@matrix_a\n",
    "def anti_commutator(matrix_a,matrix_b):\n",
    "    return matrix_a@matrix_b + matrix_b@matrix_a"
   ]
  },
  {
   "cell_type": "code",
   "execution_count": 4,
   "id": "4ec1f40b-7b88-4973-9821-e4b92070d836",
   "metadata": {},
   "outputs": [],
   "source": [
    "large = 40; med = 34; small = 20\n",
    "params = {'axes.titlesize': med,\n",
    "          'axes.titlepad' : med,\n",
    "          'legend.fontsize': med,\n",
    "          'axes.labelsize': med ,\n",
    "          'axes.titlesize': med ,\n",
    "          'xtick.labelsize': med ,\n",
    "          'ytick.labelsize': med ,\n",
    "          'figure.titlesize': med}\n",
    "plt.rcParams['text.usetex'] = True\n",
    "#plt.rcParams['text.latex.preamble'] = r'\\usepackage{{amsmath}}'\n",
    "plt.rcParams.update(params)"
   ]
  },
  {
   "cell_type": "code",
   "execution_count": 5,
   "id": "e2a827aa-6c68-4664-b9e4-52e07d9099c6",
   "metadata": {},
   "outputs": [],
   "source": [
    "r\"\"\"\n",
    "# parameters of Hamiltonians and Lindbladians\n",
    "b       = 0.1\n",
    "gamma_1 = 0.02\n",
    "gamma_2 = 0.05\n",
    "\n",
    "I2 = pauli_list[0]\n",
    "X = pauli_list[1]\n",
    "Y = pauli_list[2]\n",
    "Z = pauli_list[3]\n",
    "Hamiltonian = (-b/2)*X\n",
    "L_1 = np.sqrt(gamma_1)*np.matrix([[0,1],[1,0]])\n",
    "L_2 = np.sqrt(gamma_2)*Z\n",
    "\n",
    "# steady state density matrix parameters\n",
    "Delta = 2*b**2+gamma_1**2+4*gamma_1*gamma_2\n",
    "yss   = (2*b*gamma_1)/Delta\n",
    "zss   = (gamma_1*(gamma_1+4*gamma_2))/Delta\n",
    "\n",
    "# steady state density matrix\n",
    "rho_ss = (1/2)*(I2+yss*Y+zss*Z)\n",
    "\n",
    "# angles for steady state preparation\n",
    "theta_x = np.arccos(zss)\n",
    "theta_y = np.arccos(-yss/(4*np.sqrt(1+zss**2)))\"\"\";"
   ]
  },
  {
   "cell_type": "markdown",
   "id": "aceab61f-93f9-49b1-8a9e-fa469ea9f9cf",
   "metadata": {
    "tags": []
   },
   "source": [
    "## Variation of parameters"
   ]
  },
  {
   "cell_type": "code",
   "execution_count": 6,
   "id": "619af636",
   "metadata": {},
   "outputs": [],
   "source": [
    "N_qubit = 2\n",
    "# returns N*K classical shadows.\n",
    "def classical_shadow_using_ST(N,K,theta_x,theta_y,theta_z,theta_ry):\n",
    "    \n",
    "    # setting up the quantum circuit\n",
    "    qc = QuantumCircuit(N_qubit)\n",
    "    # initializing the ancilla qubit at |0>.\n",
    "    qc.initialize([1,0],0)\n",
    "    qc.rx(theta_x,1)\n",
    "    qc.ry(theta_y,1)\n",
    "    qc.rz(theta_z,1)\n",
    "    qc.cry(theta_ry,1,0)\n",
    "    sv = np.matrix(Statevector.from_instruction(qc)).conj().T\n",
    "    rho_SS = sv@(sv.conj().T)   \n",
    "\n",
    "    # number of shadows\n",
    "    nShadows = N*K\n",
    "    # number of shots\n",
    "    number_of_shots = 1\n",
    "    rng = np.random.default_rng(1000)\n",
    "    cliffords = [qiskit.quantum_info.random_clifford(N_qubit,seed = rng) for _ in range(nShadows)]    \n",
    "    results = []    \n",
    "    for cliff in cliffords:\n",
    "        qc_c  = qc.compose(cliff.to_circuit())\n",
    "        # samples the output in computational basis.\n",
    "        counts = qiskit.quantum_info.Statevector(qc_c).sample_counts(number_of_shots)\n",
    "        results.append(counts)  \n",
    "    \n",
    "    # performing rho_hat = (2**N+1)*(U^{\\dagger}|b><b|U-I).\n",
    "    shadow_lst = []\n",
    "    # loops over the clifford gates and their corresponding measurement results.\n",
    "    for cliff, res in zip(cliffords, results):\n",
    "        # U^{\\dagger} matrix.\n",
    "        mat    = cliff.adjoint().to_matrix()\n",
    "        for bit,count in res.items():\n",
    "            Ub = mat[:,int(bit,2)] # this is Udag|b>\n",
    "            shadow_lst.append(((2**N_qubit+1.))*np.outer(Ub,Ub.conj())*count - np.eye(2**N_qubit))    \n",
    "    return rho_SS, shadow_lst\n",
    "\n",
    "#qc.draw(\"mpl\", scale=3,style=\"clifford\")"
   ]
  },
  {
   "cell_type": "markdown",
   "id": "971c7909-94f7-4549-9c47-4c8e2cbe8519",
   "metadata": {
    "tags": []
   },
   "source": [
    "## Shadow tomography"
   ]
  },
  {
   "cell_type": "code",
   "execution_count": 7,
   "id": "5429dac3-004f-4dc9-901e-1154fae8e6a0",
   "metadata": {},
   "outputs": [
    {
     "name": "stdout",
     "output_type": "stream",
     "text": [
      "theta_z =  -0.6414725691602342\n",
      "theta_x =  0.4735237017488994\n",
      "theta_y =  0.39269908169872414\n",
      "theta_ry =  3.4552240242785945\n"
     ]
    }
   ],
   "source": [
    "b = 0.2\n",
    "gamma_1 = 0.1\n",
    "gamma_2 = 0.9\n",
    "\n",
    "# known analytical solution\n",
    "Delta = 2*b**2+gamma_1**2+4*gamma_1*gamma_2\n",
    "yss= (2*b*gamma_1)/Delta\n",
    "zss = (gamma_1*(gamma_1+4*gamma_2))/Delta\n",
    "\n",
    "theta_y_exact = np.pi/8\n",
    "theta_x_exact = np.arccos(zss/np.cos(theta_y_exact))\n",
    "theta_z_exact = np.arctan(-np.sin(theta_y_exact)/np.tan(theta_x_exact))\n",
    "theta_ry_exact = 2*np.arccos(-yss*np.cos(theta_z_exact)/np.sin(theta_x_exact))\n",
    "\n",
    "print(\"theta_z = \",theta_z_exact)\n",
    "print(\"theta_x = \",theta_x_exact)\n",
    "print(\"theta_y = \",theta_y_exact)\n",
    "print(\"theta_ry = \",theta_ry_exact)"
   ]
  },
  {
   "cell_type": "code",
   "execution_count": 8,
   "id": "452aef1a-fd45-4d9b-9fae-336823ce722e",
   "metadata": {},
   "outputs": [
    {
     "data": {
      "text/plain": [
       "10.596634733096073"
      ]
     },
     "execution_count": 8,
     "metadata": {},
     "output_type": "execute_result"
    }
   ],
   "source": [
    "M = 1\n",
    "2*np.log(2*M/0.01)"
   ]
  },
  {
   "cell_type": "markdown",
   "id": "d849087c-dd63-46ea-b691-7fad7f92eb42",
   "metadata": {
    "jp-MarkdownHeadingCollapsed": true,
    "tags": []
   },
   "source": [
    "## Comparison of exact and shadow density matrix"
   ]
  },
  {
   "cell_type": "code",
   "execution_count": 9,
   "id": "3fd88f9f-8a5f-4aa0-a824-2704c40d07c2",
   "metadata": {},
   "outputs": [],
   "source": [
    "r\"\"\"\n",
    "N = 50\n",
    "K = 10\n",
    "exact_and_shadow_density_matrix = classical_shadow_using_ST(N,K,theta_x_exact,theta_y_exact,theta_z_exact,theta_ry_exact)\n",
    "rho_exact = exact_and_shadow_density_matrix[0]\n",
    "rho_shadow_lst = exact_and_shadow_density_matrix[1]\n",
    "# average classical shadow.\n",
    "rho_shadow = np.sum(rho_shadow_lst,axis=0)/(len(rho_shadow_lst))\"\"\";"
   ]
  },
  {
   "cell_type": "code",
   "execution_count": 10,
   "id": "f6adb938-6574-433b-b90a-6534c891874b",
   "metadata": {},
   "outputs": [],
   "source": [
    "r\"\"\"\n",
    "large = 40; med = 30; small = 20\n",
    "params = {'axes.titlesize': med,\n",
    "          'axes.titlepad' : med,\n",
    "          'legend.fontsize': med,\n",
    "          'axes.labelsize': med ,\n",
    "          'axes.titlesize': med ,\n",
    "          'xtick.labelsize': med ,\n",
    "          'ytick.labelsize': med ,\n",
    "          'figure.titlesize': med}\n",
    "plt.rcParams['text.usetex'] = True\n",
    "plt.rcParams.update(params)\n",
    "from mpl_toolkits.axes_grid1 import make_axes_locatable\n",
    "fig, axs = plt.subplots(2, 2)\n",
    "fig.set_figwidth(8)\n",
    "fig.set_figheight(8)\n",
    "\n",
    "c1 = axs[0, 0].imshow(rho_exact.real)\n",
    "axs[0, 0].set_title(r\"Exact Re$[\\rho]$\")\n",
    "\n",
    "c2 = axs[0, 1].imshow(rho_shadow.real)\n",
    "axs[0, 1].set_title(r\"Shadow Re$[\\rho]$\")\n",
    "\n",
    "c3 = axs[1, 0].imshow(rho_exact.imag)\n",
    "axs[1, 0].set_title(r\"Exact Im$[\\rho]$\")\n",
    "\n",
    "c4 = axs[1, 1].imshow(rho_shadow.imag)\n",
    "axs[1, 1].set_title(r\"Shadow Im$[\\rho]$\")\n",
    "\n",
    "plt.suptitle(\"N = \"+str(len(rho_shadow_lst)))\n",
    "\n",
    "#for ax in axs.flat:\n",
    "    #ax.set(xlabel='x-label', ylabel='y-label')\n",
    "\n",
    "divider = make_axes_locatable(plt.gca())\n",
    "cax = divider.append_axes(\"right\", size=\"5%\", pad=0.05)\n",
    "\n",
    "fig.colorbar(c4, cax=cax, orientation='vertical')\n",
    "\n",
    "# Display the figure with subplots\n",
    "plt.tight_layout()    \n",
    "# Hide x labels and tick labels for top plots and y ticks for right plots.\n",
    "for ax in axs.flat:\n",
    "    ax.label_outer()\n",
    "plt.tight_layout()\n",
    "plt.savefig(\"density_matrix_comparison_\"+str(len(rho_shadow_lst))+\".jpg\", dpi=600)\n",
    "plt.show()\"\"\";"
   ]
  },
  {
   "cell_type": "code",
   "execution_count": 11,
   "id": "8c48521b-81d1-4e7a-9f25-90377df25ff5",
   "metadata": {},
   "outputs": [],
   "source": [
    "def quadratic_o_i_k(N,k,Operator_1, Operator_2):\n",
    "    s = 0.0\n",
    "    for j in range(N*(k-1)+1,N*k+1):\n",
    "        for l in range(N*(k-1)+1,N*k+1):\n",
    "            if j != l:\n",
    "                rho_j = set_of_shadows[j]\n",
    "                rho_l = set_of_shadows[l]\n",
    "                s += np.trace(np.kron(Operator_1,I2)@rho_j@np.kron(Operator_2,I2)@rho_l)\n",
    "    return (1/(N*(N-1)))*s\n",
    "def linear_o_i_k(N,k,Operator):\n",
    "    s = 0.0\n",
    "    for j in range(N*(k-1)+1,N*k+1):\n",
    "        rho_j = set_of_shadows[j]\n",
    "        s += np.trace(Operator@rho_j)\n",
    "    return s/N"
   ]
  },
  {
   "cell_type": "markdown",
   "id": "bcf99ba8-d684-4217-8ba9-cc86eef90783",
   "metadata": {
    "tags": []
   },
   "source": [
    "## Lindblad equation"
   ]
  },
  {
   "cell_type": "code",
   "execution_count": 12,
   "id": "c0112618-358a-424a-b9f1-c95eb41a6035",
   "metadata": {},
   "outputs": [],
   "source": [
    "r\"\"\"\n",
    "\n",
    "this function returns \\mathcal{L}\\rho i.e. the right hand side of the\n",
    "Lindblad equation.\n",
    "\n",
    "input: density matrix (either exact or shadow), list of Lindbladians.\n",
    "output: right hand side of the Lindblad equation.\n",
    "\n",
    "\"\"\"\n",
    "\n",
    "def partial_trace(mat):\n",
    "    return np.matrix([[mat[0,0]+mat[1,1],mat[0,2]+mat[1,3]],\n",
    "                      [mat[2,0]+mat[3,1],mat[2,2]+mat[3,3]]])\n",
    "\n",
    "# the parameter that should be changed is the density_mat\n",
    "def lindblad_equation(density_mat, hamiltonian, L_1, L_2):\n",
    "    # reduced density matrix for the state\n",
    "    #rho_state = partial_trace(density_mat)\n",
    "    return (-1j*commutator(hamiltonian,density_mat)\n",
    "            + L_1@density_mat@(L_1.conj().T) - (1/2)*anti_commutator((L_1.conj().T)@L_1,density_mat)\n",
    "            + L_2@density_mat@(L_2.conj().T) - (1/2)*anti_commutator((L_2.conj().T)@L_2,density_mat))\n",
    "\n",
    "#M = np.array([[1,2,3,4],[5,6,7,8],[9,10,11,12],[13,14,15,16]])\n",
    "#partial_trace(M)"
   ]
  },
  {
   "cell_type": "markdown",
   "id": "b5166956-2ad3-48f3-a861-a807c9827f79",
   "metadata": {},
   "source": [
    "## Parameters and angles"
   ]
  },
  {
   "cell_type": "code",
   "execution_count": 13,
   "id": "3d57de59-a887-41df-abfe-25455f882ca1",
   "metadata": {},
   "outputs": [
    {
     "data": {
      "text/plain": [
       "matrix([[0.91111111+0.j        , 0.        -0.04444444j],\n",
       "        [0.        +0.04444444j, 0.08888889+0.j        ]])"
      ]
     },
     "execution_count": 13,
     "metadata": {},
     "output_type": "execute_result"
    }
   ],
   "source": [
    "# density matrix in terms of angles\n",
    "def rho_SS_from_angles(theta_x,theta_y,theta_z,theta_ry):\n",
    "    rho_11 = (1/2)*(1+np.cos(theta_x)*np.cos(theta_y))\n",
    "    rho_12 = ((1/2)*np.exp(-1j*theta_z)*np.cos(theta_ry/2)*(np.sin(theta_y)*np.cos(theta_x)\n",
    "                                                           +1j*np.sin(theta_x)))\n",
    "    return np.matrix([[rho_11,rho_12],[rho_12.conj(),1-rho_11]])\n",
    "\n",
    "rho_SS_exact = (1/2)*(I2+yss*Y+zss*Z)\n",
    "rho_SS_exact"
   ]
  },
  {
   "cell_type": "code",
   "execution_count": 14,
   "id": "5a3033a6-a2d7-4bf8-8642-b31c23f19c6f",
   "metadata": {},
   "outputs": [
    {
     "data": {
      "text/plain": [
       "matrix([[ 9.11111111e-01+0.j        , -6.93889390e-18-0.04444444j],\n",
       "        [-6.93889390e-18+0.04444444j,  8.88888889e-02+0.j        ]])"
      ]
     },
     "execution_count": 14,
     "metadata": {},
     "output_type": "execute_result"
    }
   ],
   "source": [
    "rho_SS_from_angles(theta_x_exact,theta_y_exact,theta_z_exact,theta_ry_exact)"
   ]
  },
  {
   "cell_type": "code",
   "execution_count": 15,
   "id": "9de74792-c956-49a3-b09b-754e18a5b6d8",
   "metadata": {},
   "outputs": [
    {
     "data": {
      "text/plain": [
       "matrix([[0.00000000e+00+0.j, 0.00000000e+00+0.j],\n",
       "        [0.00000000e+00+0.j, 1.38777878e-17+0.j]])"
      ]
     },
     "execution_count": 15,
     "metadata": {},
     "output_type": "execute_result"
    }
   ],
   "source": [
    "lindblad_equation(rho_SS_exact,-(b/2)*X,np.sqrt(gamma_1)*np.matrix([[0,1],[0,0]]),np.sqrt(gamma_2)*Z)"
   ]
  },
  {
   "cell_type": "code",
   "execution_count": 16,
   "id": "3d77a847-c474-42d9-b8f7-109b79ec8f1b",
   "metadata": {},
   "outputs": [
    {
     "name": "stdout",
     "output_type": "stream",
     "text": [
      "theta_z  =  -0.6414725691602342\n",
      "theta_x  =  0.4735237017488994\n",
      "theta_y  =  0.39269908169872414\n",
      "theta_ry =  3.4552240242785945\n"
     ]
    }
   ],
   "source": [
    "print(\"theta_z  = \",theta_z_exact)\n",
    "print(\"theta_x  = \",theta_x_exact)\n",
    "print(\"theta_y  = \",theta_y_exact)\n",
    "print(\"theta_ry = \",theta_ry_exact)"
   ]
  },
  {
   "cell_type": "code",
   "execution_count": 35,
   "id": "a3a46bb1-125f-4651-863d-cc51b29b615f",
   "metadata": {},
   "outputs": [
    {
     "data": {
      "text/plain": [
       "(0.05446253953499142+0j)"
      ]
     },
     "execution_count": 35,
     "metadata": {},
     "output_type": "execute_result"
    }
   ],
   "source": [
    "rho_SS_angles = rho_SS_from_angles(-1,theta_y_exact,theta_z_exact,theta_ry_exact)\n",
    "cost_function(lindblad_equation(rho_SS_angles,-(b/2)*X,np.sqrt(gamma_1)*np.matrix([[0,1],[0,0]]),np.sqrt(gamma_2)*Z))"
   ]
  },
  {
   "cell_type": "code",
   "execution_count": 21,
   "id": "94529394-7034-4645-8f4c-8247e22c0364",
   "metadata": {},
   "outputs": [],
   "source": [
    "divisons = 20\n",
    "theta_x_lst = np.linspace(-1,1,divisons)\n",
    "\n",
    "def cost_function(rho):\n",
    "    return np.trace(rho@rho)\n",
    "\n",
    "exact_rho_lst  = []\n",
    "shadow_rho_lst = []\n",
    "\n",
    "cost_function_array_shadow = np.zeros(divisons)\n",
    "cost_function_array_exact= np.zeros(divisons)\n",
    "N = 50\n",
    "K = 10\n",
    "for xx in range(divisons):\n",
    "            ST = classical_shadow_using_ST(N,K,theta_x_lst[xx],\n",
    "                                               theta_y_exact,\n",
    "                                               theta_z_exact,\n",
    "                                               theta_ry_exact)\n",
    "            rho_exact = ST[0]\n",
    "            #exact_rho_lst.append(rho_exact)\n",
    "            rho_shadow_lst = ST[1]\n",
    "            rho_shadow  = np.sum(rho_shadow_lst,axis=0)/(len(rho_shadow_lst))\n",
    "            #shadow_rho_lst.append(partial_trace(rho_shadow))\n",
    "            \n",
    "            Liouv_rho_exact= lindblad_equation(partial_trace(rho_exact),-(b/2)*X,\n",
    "                                                 np.sqrt(gamma_1)*np.matrix([[0,1],[0,0]]),\n",
    "                                                 np.sqrt(gamma_2)*Z)            \n",
    "            Liouv_rho_shadow = lindblad_equation(partial_trace(rho_shadow),-(b/2)*X,\n",
    "                                                 np.sqrt(gamma_1)*np.matrix([[0,1],[0,0]]),\n",
    "                                                 np.sqrt(gamma_2)*Z)\n",
    "            \n",
    "            cost_function_array_exact[xx] = cost_function(Liouv_rho_exact).real\n",
    "            cost_function_array_shadow[xx] = cost_function(Liouv_rho_shadow).real "
   ]
  },
  {
   "cell_type": "code",
   "execution_count": 18,
   "id": "52b61220-8c7f-4b78-a03b-9415db70c649",
   "metadata": {},
   "outputs": [
    {
     "data": {
      "image/png": "[encoded data removed]",
      "text/plain": [
       "<Figure size 864x432 with 1 Axes>"
      ]
     },
     "metadata": {
      "needs_background": "light"
     },
     "output_type": "display_data"
    }
   ],
   "source": [
    "f = plt.figure()\n",
    "f.set_figwidth(12)\n",
    "f.set_figheight(6)\n",
    "plt.scatter(theta_x_lst,cost_function_array_exact,c=\"red\",label=r\"exact\")\n",
    "#plt.plot(theta_x_lst,cost_function_array_shadow,c=\"blue\")\n",
    "#plt.scatter(theta_x_lst,cost_function_array_shadow,c=\"blue\",label=r\"shadow\")\n",
    "\n",
    "ax = f.gca()\n",
    "ax.axvline(theta_x_exact, color=\"green\",label = r\"$\\theta_{x}$\",linestyle=\"--\")\n",
    "ax.axhline(0, color=\"k\",linestyle=\"--\")\n",
    "#ax.axvline(-np.pi+theta_x_exact, color=\"green\",label = r\"$\\theta_{x}$\",linestyle=\"--\")\n",
    "plt.title(\"Plot of cost function, \"+r\"$f( \\rho ) = \\textrm{tr}((\\mathcal{L}\\rho)^{2})$\")\n",
    "plt.legend()\n",
    "plt.show()"
   ]
  },
  {
   "cell_type": "code",
   "execution_count": 19,
   "id": "5e35ac9b-aee3-446b-8bb0-b1ccf789c43e",
   "metadata": {},
   "outputs": [],
   "source": [
    "r\"\"\"\n",
    "import numpy as np\n",
    "import matplotlib.pyplot as plt\n",
    "from mpl_toolkits.mplot3d import Axes3D\n",
    "large = 40; med = 34; small = 20\n",
    "params = {'axes.titlesize': med,\n",
    "          'axes.titlepad' : med,\n",
    "          'legend.fontsize': med,\n",
    "          'axes.labelsize': med ,\n",
    "          'axes.titlesize': med ,\n",
    "          'xtick.labelsize': small ,\n",
    "          'ytick.labelsize': small ,\n",
    "          'figure.titlesize': med}\n",
    "plt.rcParams['text.usetex'] = True\n",
    "#plt.rcParams['text.latex.preamble'] = r'\\usepackage{{amsmath}}'\n",
    "plt.rcParams.update(params)\n",
    "# Create a figure\n",
    "fig = plt.figure()\n",
    "\n",
    "# Create a 3D axis\n",
    "ax = fig.add_subplot(111, projection='3d')\n",
    "\n",
    "theta_x_mesh,theta_ry_mesh = np.meshgrid(theta_x_lst,theta_ry_lst)\n",
    "# Plot the surface\n",
    "ax.plot_surface(theta_x_mesh, theta_ry_mesh, cost_function_array,cmap='viridis',\\\n",
    "                edgecolor='green')\n",
    "# Set labels\n",
    "ax.set_xlabel(r\"$\\theta_{y}$\")\n",
    "ax.set_ylabel(r\"$\\theta_{ry}$\")\n",
    "ax.set_zlabel(r\"$f(\\rho)$\")\n",
    "\n",
    "fig.set_figwidth(13)\n",
    "fig.set_figheight(10)\n",
    "# Show the plot\n",
    "ax.plot([theta_x_exact], [theta_ry_exact], [0.0], markerfacecolor='k',\n",
    "        markeredgecolor='k', marker='o', markersize=5, alpha=0.6)\n",
    "# Set the viewing angle\n",
    "ax.view_init(elev=10, azim=20)\n",
    "plt.show()\"\"\";"
   ]
  },
  {
   "cell_type": "code",
   "execution_count": null,
   "id": "65d2c747-08d7-459c-9d96-b4755b18a47e",
   "metadata": {},
   "outputs": [],
   "source": []
  }
 ],
 "metadata": {
  "kernelspec": {
   "display_name": "Python 3 (ipykernel)",
   "language": "python",
   "name": "python3"
  },
  "language_info": {
   "codemirror_mode": {
    "name": "ipython",
    "version": 3
   },
   "file_extension": ".py",
   "mimetype": "text/x-python",
   "name": "python",
   "nbconvert_exporter": "python",
   "pygments_lexer": "ipython3",
   "version": "3.9.12"
  }
 },
 "nbformat": 4,
 "nbformat_minor": 5
}
